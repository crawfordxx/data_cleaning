{
 "cells": [
  {
   "cell_type": "markdown",
   "metadata": {},
   "source": [
    "# FIT5196 Assessment 2\n",
    "#### Student Name: Jianhan Ma & Yi Hsiao\n",
    "#### Student ID: 29332885 & 29360595\n",
    "#### Group ID: 023\n",
    "Date: 03/10/2019\n",
    "\n",
    "Version: 2.0\n",
    "\n",
    "Environment: Python 3.6.0 and Anaconda 4.3.0 (64-bit)\n",
    "\n",
    "Libraries used:\n",
    "* numpy (for data homogeneous multidimensional array, included in Anaconda Python 3.6)\n",
    "* pandas 0.19.2 (for data frame, included in Anaconda Python 3.6) \n",
    "* re 2.2.1 (for regular expression, included in Anaconda Python 3.6) \n",
    "* matplotlib (for data visualization, included in Anaconda Python 3.6)\n",
    "* nmatplotlib.pyplot (for data visualization, included in Anaconda Python 3.6)\n",
    "* matplotlib.pylab (for stop words, included in Anaconda Python 3.6)\n",
    "* networkx (for create data model, included in Anaconda Python 3.6)\n",
    "* seaborn (for data visualization, included in Anaconda Python 3.6)\n",
    "* LinearRegression(for prediction of data by linear regression )\n",
    "* train_test_split(for trainning the data )\n",
    "\n",
    "## Introduction\n",
    "\n",
    "This task provide three data-set (dirty_data.csv, outlier_data.csv, missing_data.csv). Exploring and understanding the data is one of the most important parts of the data wrangling process. We need to fix the data error in the dirty_data.csv, fill the correct data into the missing_data.csv and find the outlier data and delete it in outlier_data.csv. In addition, we using exploratory data analysis (EDA) method to check data. Because EDA method usually use to visual methods and hypothesis testing task, it will help us to find error data easier.\n",
    "\n",
    "More details for each task will be given in the following sections."
   ]
  },
  {
   "cell_type": "markdown",
   "metadata": {},
   "source": [
    "##   Import libraries "
   ]
  },
  {
   "cell_type": "code",
   "execution_count": 1,
   "metadata": {},
   "outputs": [],
   "source": [
    "#Basic scientific python libs\n",
    "import pandas as pd\n",
    "import re\n",
    "import numpy as np\n",
    "import matplotlib as mpl\n",
    "import matplotlib.pyplot as plt\n",
    "import matplotlib.pylab as pylab\n",
    "import networkx as nx\n",
    "import seaborn as sns\n",
    "from sklearn.linear_model import LinearRegression\n",
    "from sklearn.model_selection import train_test_split"
   ]
  },
  {
   "cell_type": "markdown",
   "metadata": {},
   "source": [
    "##  Read files"
   ]
  },
  {
   "cell_type": "code",
   "execution_count": 2,
   "metadata": {},
   "outputs": [],
   "source": [
    "##read the first csv file\n",
    "dirty_csv = pd.read_csv(\"Group023_dirty_data.csv\")\n",
    "missing_csv = pd.read_csv(\"Group023_missing_data.csv\")\n",
    "outlier_csv = pd.read_csv(\"Group023_outlier_data.csv\")\n",
    "branches = pd.read_csv(\"branches.csv\")\n",
    "edges = pd.read_csv(\"edges.csv\", index_col=0)\n",
    "nodes = pd.read_csv(\"nodes.csv\")"
   ]
  },
  {
   "cell_type": "markdown",
   "metadata": {},
   "source": [
    "# 1. Dirty Data"
   ]
  },
  {
   "cell_type": "markdown",
   "metadata": {},
   "source": [
    "## 1.1 Order_ID"
   ]
  },
  {
   "cell_type": "markdown",
   "metadata": {},
   "source": [
    "Use the function of info to see the information of dirty_csv. There are 12 columns in this file, and each columns have 500 data. Moreover, the data in each columns are non-null."
   ]
  },
  {
   "cell_type": "code",
   "execution_count": 3,
   "metadata": {},
   "outputs": [
    {
     "name": "stdout",
     "output_type": "stream",
     "text": [
      "<class 'pandas.core.frame.DataFrame'>\n",
      "RangeIndex: 500 entries, 0 to 499\n",
      "Data columns (total 12 columns):\n",
      "order_id                   500 non-null object\n",
      "date                       500 non-null object\n",
      "time                       500 non-null object\n",
      "order_type                 500 non-null object\n",
      "branch_code                500 non-null object\n",
      "order_items                500 non-null object\n",
      "order_price                500 non-null float64\n",
      "customer_lat               500 non-null float64\n",
      "customer_lon               500 non-null float64\n",
      "customerHasloyalty?        500 non-null int64\n",
      "distance_to_customer_KM    500 non-null float64\n",
      "delivery_fee               500 non-null float64\n",
      "dtypes: float64(5), int64(1), object(6)\n",
      "memory usage: 47.0+ KB\n"
     ]
    }
   ],
   "source": [
    "dirty_csv.info()"
   ]
  },
  {
   "cell_type": "code",
   "execution_count": 4,
   "metadata": {},
   "outputs": [
    {
     "data": {
      "text/plain": [
       "500"
      ]
     },
     "execution_count": 4,
     "metadata": {},
     "output_type": "execute_result"
    }
   ],
   "source": [
    "## check all the order_id are unique or not\n",
    "len(dirty_csv['order_id'].unique())"
   ]
  },
  {
   "cell_type": "markdown",
   "metadata": {},
   "source": [
    "## 1.2 date"
   ]
  },
  {
   "cell_type": "markdown",
   "metadata": {},
   "source": [
    "First of all, use the function of head to check the date's data. We can see that there is a unusual date format in the data."
   ]
  },
  {
   "cell_type": "code",
   "execution_count": 5,
   "metadata": {},
   "outputs": [
    {
     "data": {
      "text/plain": [
       "0    2018-08-07\n",
       "1    2018-01-12\n",
       "2    2018-07-06\n",
       "3    2018-04-26\n",
       "4    10-04-2018\n",
       "Name: date, dtype: object"
      ]
     },
     "execution_count": 5,
     "metadata": {},
     "output_type": "execute_result"
    }
   ],
   "source": [
    "dirty_csv['date'].head()"
   ]
  },
  {
   "cell_type": "markdown",
   "metadata": {},
   "source": [
    "Use the package of pandas to fix the date type and set the date as string type"
   ]
  },
  {
   "cell_type": "code",
   "execution_count": 6,
   "metadata": {},
   "outputs": [],
   "source": [
    "##Format the date column\n",
    "dirty_csv['date'] = pd.to_datetime(dirty_csv['date'].astype(str),dayfirst=True, errors='coerce')"
   ]
  },
  {
   "cell_type": "markdown",
   "metadata": {},
   "source": [
    "## 1.3 time"
   ]
  },
  {
   "cell_type": "markdown",
   "metadata": {},
   "source": [
    "In this part, we are going to check whether have the error time type in the data. Firstly, we use the function of split to split the time (hour, minute and second). Then, use the boolean function to check the time type. If the hour less then 24, the minute less then 60, the second less then 60 and the time less then '24:00:00', the system will return true. Whereas, return false."
   ]
  },
  {
   "cell_type": "code",
   "execution_count": 7,
   "metadata": {},
   "outputs": [],
   "source": [
    "## to judge the each part of time is in its range or not\n",
    "def time_valiadation(data):\n",
    "    time = data['time'].split(':')\n",
    "    try:\n",
    "        judge = bool(time[0] < '24' and time[1] < '60' and time[2] < '60' and data['time'] < '24:00:00')\n",
    "    except ValueError:\n",
    "        return True\n",
    "    return False"
   ]
  },
  {
   "cell_type": "markdown",
   "metadata": {},
   "source": [
    "Use the time_valiadation function to check data. There are no error time type in the data"
   ]
  },
  {
   "cell_type": "code",
   "execution_count": 8,
   "metadata": {},
   "outputs": [
    {
     "data": {
      "text/html": [
       "<div>\n",
       "<style scoped>\n",
       "    .dataframe tbody tr th:only-of-type {\n",
       "        vertical-align: middle;\n",
       "    }\n",
       "\n",
       "    .dataframe tbody tr th {\n",
       "        vertical-align: top;\n",
       "    }\n",
       "\n",
       "    .dataframe thead th {\n",
       "        text-align: right;\n",
       "    }\n",
       "</style>\n",
       "<table border=\"1\" class=\"dataframe\">\n",
       "  <thead>\n",
       "    <tr style=\"text-align: right;\">\n",
       "      <th></th>\n",
       "      <th>order_id</th>\n",
       "      <th>date</th>\n",
       "      <th>time</th>\n",
       "      <th>order_type</th>\n",
       "      <th>branch_code</th>\n",
       "      <th>order_items</th>\n",
       "      <th>order_price</th>\n",
       "      <th>customer_lat</th>\n",
       "      <th>customer_lon</th>\n",
       "      <th>customerHasloyalty?</th>\n",
       "      <th>distance_to_customer_KM</th>\n",
       "      <th>delivery_fee</th>\n",
       "    </tr>\n",
       "  </thead>\n",
       "  <tbody>\n",
       "  </tbody>\n",
       "</table>\n",
       "</div>"
      ],
      "text/plain": [
       "Empty DataFrame\n",
       "Columns: [order_id, date, time, order_type, branch_code, order_items, order_price, customer_lat, customer_lon, customerHasloyalty?, distance_to_customer_KM, delivery_fee]\n",
       "Index: []"
      ]
     },
     "execution_count": 8,
     "metadata": {},
     "output_type": "execute_result"
    }
   ],
   "source": [
    "## apply in dataframe\n",
    "dirty_csv[dirty_csv.apply(time_valiadation, axis=1)]"
   ]
  },
  {
   "cell_type": "markdown",
   "metadata": {},
   "source": [
    "## 1.4 Order Type"
   ]
  },
  {
   "cell_type": "markdown",
   "metadata": {},
   "source": [
    "In this part, we are going to check the order type in the data. We can know correct types of meals in the requirement. (Breakfast - 8am - 12pm, Lunch - 12:00:01pm - 4pm, Dinner - 4:00:01pm - 8pm). However, there are some types occurs on wrong range. Therefore, we set conditions to define correct time range for each order type."
   ]
  },
  {
   "cell_type": "code",
   "execution_count": 9,
   "metadata": {},
   "outputs": [],
   "source": [
    "##fix error in order_type column(because some types occurs on wrong time range)\n",
    "eight = '08:00:00'\n",
    "twelve = '12:00:00'\n",
    "sixteen = '16:00:00'\n",
    "twenty = '20:00:00'\n",
    "##define a correct time range for each order_type\n",
    "dirty_csv.loc[((dirty_csv.order_type == \"Lunch\") | (dirty_csv.order_type == \"Dinner\")) & (dirty_csv.time <= twelve) & (dirty_csv.time >= eight), \"order_type\"] = \"Breakfast\"\n",
    "\n",
    "dirty_csv.loc[((dirty_csv.order_type == \"Breakfast\") | (dirty_csv.order_type == \"Dinner\")) & (dirty_csv.time <= sixteen) & (dirty_csv.time > twelve), \"order_type\"] = \"Lunch\"\n",
    "\n",
    "dirty_csv.loc[((dirty_csv.order_type == \"Lunch\") | (dirty_csv.order_type == \"Breakfast\")) & (dirty_csv.time <= twenty) & (dirty_csv.time > sixteen), \"order_type\"] = \"Dinner\""
   ]
  },
  {
   "cell_type": "markdown",
   "metadata": {},
   "source": [
    "Detect the data whether has been fixed."
   ]
  },
  {
   "cell_type": "code",
   "execution_count": 10,
   "metadata": {},
   "outputs": [
    {
     "data": {
      "text/html": [
       "<div>\n",
       "<style scoped>\n",
       "    .dataframe tbody tr th:only-of-type {\n",
       "        vertical-align: middle;\n",
       "    }\n",
       "\n",
       "    .dataframe tbody tr th {\n",
       "        vertical-align: top;\n",
       "    }\n",
       "\n",
       "    .dataframe thead th {\n",
       "        text-align: right;\n",
       "    }\n",
       "</style>\n",
       "<table border=\"1\" class=\"dataframe\">\n",
       "  <thead>\n",
       "    <tr style=\"text-align: right;\">\n",
       "      <th></th>\n",
       "      <th>order_id</th>\n",
       "      <th>date</th>\n",
       "      <th>time</th>\n",
       "      <th>order_type</th>\n",
       "      <th>branch_code</th>\n",
       "      <th>order_items</th>\n",
       "      <th>order_price</th>\n",
       "      <th>customer_lat</th>\n",
       "      <th>customer_lon</th>\n",
       "      <th>customerHasloyalty?</th>\n",
       "      <th>distance_to_customer_KM</th>\n",
       "      <th>delivery_fee</th>\n",
       "    </tr>\n",
       "  </thead>\n",
       "  <tbody>\n",
       "  </tbody>\n",
       "</table>\n",
       "</div>"
      ],
      "text/plain": [
       "Empty DataFrame\n",
       "Columns: [order_id, date, time, order_type, branch_code, order_items, order_price, customer_lat, customer_lon, customerHasloyalty?, distance_to_customer_KM, delivery_fee]\n",
       "Index: []"
      ]
     },
     "execution_count": 10,
     "metadata": {},
     "output_type": "execute_result"
    }
   ],
   "source": [
    "## detect the wrong data has been fixed or not\n",
    "dirty_csv[(dirty_csv.order_type == \"Breakfast\") & (dirty_csv.time > twelve)]"
   ]
  },
  {
   "cell_type": "markdown",
   "metadata": {},
   "source": [
    "## 1.5 Branch code"
   ]
  },
  {
   "cell_type": "markdown",
   "metadata": {},
   "source": [
    "In this part, we are going to see the information of branch code. If the data of branch code have error type, must be fix it.\n",
    "We found a relationship between `order_id` and `branch_code` from outlier csv Because the data in this file has no data anomalies, only outliers. "
   ]
  },
  {
   "cell_type": "code",
   "execution_count": 11,
   "metadata": {},
   "outputs": [],
   "source": [
    "def get_correct_code(data):\n",
    "    order_id = data['order_id']\n",
    "    id_list = re.findall(r'([A-Z]*)', order_id)\n",
    "    return str(id_list[0])"
   ]
  },
  {
   "cell_type": "code",
   "execution_count": 12,
   "metadata": {},
   "outputs": [],
   "source": [
    "outlier_csv['id_list'] = outlier_csv.apply(get_correct_code, axis = 1)"
   ]
  },
  {
   "cell_type": "code",
   "execution_count": 13,
   "metadata": {},
   "outputs": [
    {
     "data": {
      "text/plain": [
       "ORDC    62\n",
       "ORDI    60\n",
       "ORDZ    47\n",
       "Name: id_list, dtype: int64"
      ]
     },
     "execution_count": 13,
     "metadata": {},
     "output_type": "execute_result"
    }
   ],
   "source": [
    "outlier_csv.loc[(outlier_csv.branch_code == 'NS'),'id_list'].value_counts()"
   ]
  },
  {
   "cell_type": "code",
   "execution_count": 14,
   "metadata": {},
   "outputs": [
    {
     "data": {
      "text/plain": [
       "ORDX    58\n",
       "ORDK    49\n",
       "ORDA    47\n",
       "Name: id_list, dtype: int64"
      ]
     },
     "execution_count": 14,
     "metadata": {},
     "output_type": "execute_result"
    }
   ],
   "source": [
    "outlier_csv.loc[(outlier_csv.branch_code == 'BK'),'id_list'].value_counts()"
   ]
  },
  {
   "cell_type": "code",
   "execution_count": 15,
   "metadata": {},
   "outputs": [
    {
     "data": {
      "text/plain": [
       "ORDB    62\n",
       "ORDJ    58\n",
       "ORDY    57\n",
       "Name: id_list, dtype: int64"
      ]
     },
     "execution_count": 15,
     "metadata": {},
     "output_type": "execute_result"
    }
   ],
   "source": [
    "outlier_csv.loc[(outlier_csv.branch_code == 'TP'),'id_list'].value_counts()"
   ]
  },
  {
   "cell_type": "code",
   "execution_count": 16,
   "metadata": {},
   "outputs": [],
   "source": [
    "outlier_csv = outlier_csv.drop(columns = 'id_list')"
   ]
  },
  {
   "cell_type": "markdown",
   "metadata": {},
   "source": [
    "So here we can fix the errors of branch code by following the relationship from the code above."
   ]
  },
  {
   "cell_type": "code",
   "execution_count": 17,
   "metadata": {},
   "outputs": [],
   "source": [
    "dirty_csv.loc[(dirty_csv['order_id'].str.contains(r'[CIZ]')) & (dirty_csv['branch_code'] != 'NS'), 'branch_code'] = 'NS'\n",
    "dirty_csv.loc[(dirty_csv['order_id'].str.contains(r'[XKA]')) & (dirty_csv['branch_code'] != 'BK'), 'branch_code'] = 'BK'\n",
    "dirty_csv.loc[(dirty_csv['order_id'].str.contains(r'[BJY]')) & (dirty_csv['branch_code'] != 'TP'), 'branch_code'] = 'TP'"
   ]
  },
  {
   "cell_type": "code",
   "execution_count": 18,
   "metadata": {},
   "outputs": [
    {
     "data": {
      "text/html": [
       "<div>\n",
       "<style scoped>\n",
       "    .dataframe tbody tr th:only-of-type {\n",
       "        vertical-align: middle;\n",
       "    }\n",
       "\n",
       "    .dataframe tbody tr th {\n",
       "        vertical-align: top;\n",
       "    }\n",
       "\n",
       "    .dataframe thead th {\n",
       "        text-align: right;\n",
       "    }\n",
       "</style>\n",
       "<table border=\"1\" class=\"dataframe\">\n",
       "  <thead>\n",
       "    <tr style=\"text-align: right;\">\n",
       "      <th></th>\n",
       "      <th>branch_code</th>\n",
       "      <th>branch_name</th>\n",
       "      <th>branch_lat</th>\n",
       "      <th>branch_lon</th>\n",
       "    </tr>\n",
       "  </thead>\n",
       "  <tbody>\n",
       "    <tr>\n",
       "      <th>0</th>\n",
       "      <td>NS</td>\n",
       "      <td>Nickolson</td>\n",
       "      <td>-37.773803</td>\n",
       "      <td>144.983647</td>\n",
       "    </tr>\n",
       "    <tr>\n",
       "      <th>1</th>\n",
       "      <td>TP</td>\n",
       "      <td>Thompson</td>\n",
       "      <td>-37.861835</td>\n",
       "      <td>144.905716</td>\n",
       "    </tr>\n",
       "    <tr>\n",
       "      <th>2</th>\n",
       "      <td>BK</td>\n",
       "      <td>Bakers</td>\n",
       "      <td>-37.815834</td>\n",
       "      <td>145.046450</td>\n",
       "    </tr>\n",
       "  </tbody>\n",
       "</table>\n",
       "</div>"
      ],
      "text/plain": [
       "  branch_code branch_name  branch_lat  branch_lon\n",
       "0          NS   Nickolson  -37.773803  144.983647\n",
       "1          TP    Thompson  -37.861835  144.905716\n",
       "2          BK      Bakers  -37.815834  145.046450"
      ]
     },
     "execution_count": 18,
     "metadata": {},
     "output_type": "execute_result"
    }
   ],
   "source": [
    "branches.head()"
   ]
  },
  {
   "cell_type": "markdown",
   "metadata": {},
   "source": [
    "Check each branch code and count it. We find that there are lowercase and uppercase in the data"
   ]
  },
  {
   "cell_type": "code",
   "execution_count": 19,
   "metadata": {},
   "outputs": [
    {
     "data": {
      "text/plain": [
       "TP    173\n",
       "NS    172\n",
       "BK    155\n",
       "Name: branch_code, dtype: int64"
      ]
     },
     "execution_count": 19,
     "metadata": {},
     "output_type": "execute_result"
    }
   ],
   "source": [
    "## to find the frequency of each kind of value\n",
    "dirty_csv.branch_code.value_counts()"
   ]
  },
  {
   "cell_type": "markdown",
   "metadata": {},
   "source": [
    "We chahge all of branch code into uppercase"
   ]
  },
  {
   "cell_type": "code",
   "execution_count": 20,
   "metadata": {},
   "outputs": [
    {
     "data": {
      "text/plain": [
       "TP    173\n",
       "NS    172\n",
       "BK    155\n",
       "Name: branch_code, dtype: int64"
      ]
     },
     "execution_count": 20,
     "metadata": {},
     "output_type": "execute_result"
    }
   ],
   "source": [
    "##upper case all the branch code\n",
    "dirty_csv.branch_code = dirty_csv.branch_code.str.upper()\n",
    "dirty_csv.branch_code.value_counts()"
   ]
  },
  {
   "cell_type": "markdown",
   "metadata": {},
   "source": [
    "## 1.6 Order item"
   ]
  },
  {
   "cell_type": "markdown",
   "metadata": {},
   "source": [
    "In this part, we are going to find the correct menu for each type form missing value. Firstly, we use the `missing_csv` to find the correct menu, because there is no data anomalies in the `missing_csv`. Secondly, we use the function of loop and the function of re (regular expression) to extract the correct data. Finaly, append the extracted data to a new list, then use the function of set to remove duplication"
   ]
  },
  {
   "cell_type": "markdown",
   "metadata": {},
   "source": [
    "### 1.6.1 Menu for breakfast, lunch and dinner"
   ]
  },
  {
   "cell_type": "code",
   "execution_count": 21,
   "metadata": {},
   "outputs": [],
   "source": [
    "##get the correct menu for each type from missing value(becaues there is no data anomalies)\n",
    "\n",
    "breakfast_item = missing_csv[(missing_csv.order_type == \"Breakfast\")]['order_items'].tolist()\n",
    "breakfast_menu=[]\n",
    "for i in range(len(breakfast_item)):\n",
    "    menu = []\n",
    "    menu = re.findall('([A-Z]\\w+)', breakfast_item[i]) ## get the item from srting or we can use eval() to get the first element.\n",
    "    for item in menu:\n",
    "        breakfast_menu.append(item)\n",
    "breakfast_menu = list(set(breakfast_menu))\n",
    "\n",
    "\n",
    "lunch_item = missing_csv[(missing_csv.order_type == \"Lunch\")]['order_items'].tolist()\n",
    "lunch_menu=[]\n",
    "for i in range(len(lunch_item)):\n",
    "    menu = []\n",
    "    menu = re.findall('([A-Z]\\w+)', lunch_item[i])\n",
    "    for item in menu:\n",
    "        lunch_menu.append(item)\n",
    "lunch_menu = list(set(lunch_menu))\n",
    "\n",
    "\n",
    "\n",
    "dinner_item = missing_csv[(missing_csv.order_type == \"Dinner\")]['order_items'].tolist()\n",
    "dinner_menu=[]\n",
    "for i in range(len(dinner_item)):\n",
    "    menu = []\n",
    "    menu = re.findall('([A-Z]\\w+\\&?[A-Z]?\\w+)', dinner_item[i])\n",
    "    for item in menu:\n",
    "        dinner_menu.append(item)\n",
    "dinner_menu = list(set(dinner_menu))"
   ]
  },
  {
   "cell_type": "markdown",
   "metadata": {},
   "source": [
    "Then, print the correct menu for each type"
   ]
  },
  {
   "cell_type": "code",
   "execution_count": 22,
   "metadata": {},
   "outputs": [
    {
     "name": "stdout",
     "output_type": "stream",
     "text": [
      "breakfast menu: ['Pancake', 'Coffee', 'Cereal', 'Eggs']\n",
      "lunch menu: ['Salad', 'Burger', 'Fries', 'Chicken', 'Steak']\n",
      "dinner menu: ['Fish&Chips', 'Salmon', 'Pasta', 'Shrimp']\n"
     ]
    }
   ],
   "source": [
    "print('breakfast menu: ' + str(breakfast_menu))\n",
    "print('lunch menu: '+ str(lunch_menu))\n",
    "print('dinner menu: '+ str(dinner_menu))"
   ]
  },
  {
   "cell_type": "markdown",
   "metadata": {},
   "source": [
    "### 1.6.2 Menu price"
   ]
  },
  {
   "cell_type": "markdown",
   "metadata": {},
   "source": [
    "In this part, we are going to find the price of items in each menu "
   ]
  },
  {
   "cell_type": "markdown",
   "metadata": {},
   "source": [
    "### Breakfast item menu"
   ]
  },
  {
   "cell_type": "markdown",
   "metadata": {},
   "source": [
    "First of all, use the eval method to transform string to a format. Because this methos allows us to be more convenient in calculations."
   ]
  },
  {
   "cell_type": "code",
   "execution_count": 23,
   "metadata": {},
   "outputs": [],
   "source": [
    "##use eval() method to transform string to a format which is looks like\n",
    "def turnto_list(data):\n",
    "    data['order_items'] = eval(data['order_items'])\n",
    "    return data['order_items']"
   ]
  },
  {
   "cell_type": "markdown",
   "metadata": {},
   "source": [
    "Then, We are going to find the number of order items in each data. We use two loops to solve this problem. The first loop to run the length of `breakfast_menu` and the second loop to run the length of `order_item`. If the 0th position of `order_item` matches `breakfast_menu`, the list of `item_pric`e will append the 1th position of `order_item's` data which is the amount of items."
   ]
  },
  {
   "cell_type": "code",
   "execution_count": 24,
   "metadata": {},
   "outputs": [],
   "source": [
    "## to get all the amount of items order by its menu \n",
    "def get_amount_bf(data):\n",
    "    order_item = data['order_items']\n",
    "    item_price = []\n",
    "    for x in range(len(breakfast_menu)):\n",
    "        for i in range(len(order_item)):\n",
    "            if breakfast_menu[x] == order_item[i][0]:\n",
    "                item_price.append(order_item[i][1])\n",
    "    return item_price"
   ]
  },
  {
   "cell_type": "markdown",
   "metadata": {},
   "source": [
    "Finally, we just only get the column which has 4 `order_items`. Because, there are only 4 items in the breakfast menu. Therefore, only get the data which has 4 `order_items` makes it easier for us to calculate the price of each item (4 functions, 4 variables)."
   ]
  },
  {
   "cell_type": "code",
   "execution_count": 25,
   "metadata": {},
   "outputs": [],
   "source": [
    "## only get the colunm which has 4 order_items\n",
    "missing_csv_4items_bf = missing_csv[(missing_csv.order_type=='Breakfast') & (missing_csv.order_items.str.len() > 50) ][['order_type','order_items','order_price']]\n",
    "missing_csv_4items_bf['order_items'] = missing_csv_4items_bf.apply(turnto_list, axis = 1)\n",
    "missing_csv_4items_bf.loc[(missing_csv_4items_bf.order_type=='Breakfast'),'item_price_bf'] = missing_csv_4items_bf.apply(get_amount_bf, axis = 1)\n",
    "missing_csv_4items_bf = missing_csv_4items_bf.head(4)## Four unknowns should have four equations"
   ]
  },
  {
   "cell_type": "markdown",
   "metadata": {},
   "source": [
    "Then, we can see that there is a new column to record the amount of each item. These data will be sorted by `breakfast_menu` (['Eggs', 'Pancake', 'Coffee', 'Cereal'])."
   ]
  },
  {
   "cell_type": "code",
   "execution_count": 26,
   "metadata": {},
   "outputs": [
    {
     "data": {
      "text/html": [
       "<div>\n",
       "<style scoped>\n",
       "    .dataframe tbody tr th:only-of-type {\n",
       "        vertical-align: middle;\n",
       "    }\n",
       "\n",
       "    .dataframe tbody tr th {\n",
       "        vertical-align: top;\n",
       "    }\n",
       "\n",
       "    .dataframe thead th {\n",
       "        text-align: right;\n",
       "    }\n",
       "</style>\n",
       "<table border=\"1\" class=\"dataframe\">\n",
       "  <thead>\n",
       "    <tr style=\"text-align: right;\">\n",
       "      <th></th>\n",
       "      <th>order_type</th>\n",
       "      <th>order_items</th>\n",
       "      <th>order_price</th>\n",
       "      <th>item_price_bf</th>\n",
       "    </tr>\n",
       "  </thead>\n",
       "  <tbody>\n",
       "    <tr>\n",
       "      <th>15</th>\n",
       "      <td>Breakfast</td>\n",
       "      <td>[(Pancake, 10), (Eggs, 9), (Cereal, 1), (Coffe...</td>\n",
       "      <td>491.50</td>\n",
       "      <td>[10, 4, 1, 9]</td>\n",
       "    </tr>\n",
       "    <tr>\n",
       "      <th>19</th>\n",
       "      <td>Breakfast</td>\n",
       "      <td>[(Pancake, 5), (Eggs, 8), (Coffee, 7), (Cereal...</td>\n",
       "      <td>538.75</td>\n",
       "      <td>[5, 7, 9, 8]</td>\n",
       "    </tr>\n",
       "    <tr>\n",
       "      <th>21</th>\n",
       "      <td>Breakfast</td>\n",
       "      <td>[(Eggs, 7), (Pancake, 3), (Cereal, 8), (Coffee...</td>\n",
       "      <td>439.75</td>\n",
       "      <td>[3, 6, 8, 7]</td>\n",
       "    </tr>\n",
       "    <tr>\n",
       "      <th>26</th>\n",
       "      <td>Breakfast</td>\n",
       "      <td>[(Pancake, 6), (Cereal, 8), (Coffee, 10), (Egg...</td>\n",
       "      <td>586.50</td>\n",
       "      <td>[6, 10, 8, 9]</td>\n",
       "    </tr>\n",
       "  </tbody>\n",
       "</table>\n",
       "</div>"
      ],
      "text/plain": [
       "   order_type                                        order_items  order_price  \\\n",
       "15  Breakfast  [(Pancake, 10), (Eggs, 9), (Cereal, 1), (Coffe...       491.50   \n",
       "19  Breakfast  [(Pancake, 5), (Eggs, 8), (Coffee, 7), (Cereal...       538.75   \n",
       "21  Breakfast  [(Eggs, 7), (Pancake, 3), (Cereal, 8), (Coffee...       439.75   \n",
       "26  Breakfast  [(Pancake, 6), (Cereal, 8), (Coffee, 10), (Egg...       586.50   \n",
       "\n",
       "    item_price_bf  \n",
       "15  [10, 4, 1, 9]  \n",
       "19   [5, 7, 9, 8]  \n",
       "21   [3, 6, 8, 7]  \n",
       "26  [6, 10, 8, 9]  "
      ]
     },
     "execution_count": 26,
     "metadata": {},
     "output_type": "execute_result"
    }
   ],
   "source": [
    "missing_csv_4items_bf.head(4)"
   ]
  },
  {
   "cell_type": "code",
   "execution_count": 27,
   "metadata": {},
   "outputs": [
    {
     "data": {
      "text/plain": [
       "['Pancake', 'Coffee', 'Cereal', 'Eggs']"
      ]
     },
     "execution_count": 27,
     "metadata": {},
     "output_type": "execute_result"
    }
   ],
   "source": [
    "breakfast_menu"
   ]
  },
  {
   "cell_type": "markdown",
   "metadata": {},
   "source": [
    "In this part, we are going to calculate the price of each item. Firstly, we get a Two-dimensional list from `missing_csv_4items_bf`, then transform Two-dimensional list to Two-dimensional array. Secondly, get the `order_price` and turn to array. Finaly, use the `np.linalg.solve` method to caculate the equation, then add the cach item and each price into a dictionary."
   ]
  },
  {
   "cell_type": "code",
   "execution_count": 28,
   "metadata": {},
   "outputs": [
    {
     "data": {
      "text/plain": [
       "{'Pancake': 24.25, 'Coffee': 7.5, 'Cereal': 21.0, 'Eggs': 22.0}"
      ]
     },
     "execution_count": 28,
     "metadata": {},
     "output_type": "execute_result"
    }
   ],
   "source": [
    "br_menu_price = {}\n",
    "bf_amount = []\n",
    "\n",
    "##get a Two-dimensional list\n",
    "for i in missing_csv_4items_bf.index.values:\n",
    "    bf_amount.append(missing_csv_4items_bf['item_price_bf'][i])\n",
    "    \n",
    "## transform Two-dimensional list to Two-dimensional array\n",
    "for x in range(len(bf_amount)):\n",
    "    bf_amount[x] = np.array(bf_amount[x])\n",
    "bf_amount = np.array(bf_amount)\n",
    "\n",
    "##get the order_price and turn to array\n",
    "bf_price = np.array(missing_csv_4items_bf['order_price'])\n",
    "\n",
    "##to Solution equation\n",
    "bf_unit_price = np.linalg.solve(bf_amount, bf_price)\n",
    "\n",
    "## add the item and its price into a dictionary\n",
    "for i in range(len(breakfast_menu)):\n",
    "    br_menu_price[breakfast_menu[i]] = round(bf_unit_price[i],2)\n",
    "br_menu_price"
   ]
  },
  {
   "cell_type": "markdown",
   "metadata": {},
   "source": [
    "### Lunch item price"
   ]
  },
  {
   "cell_type": "markdown",
   "metadata": {},
   "source": [
    "Then, We are going to find the number of order items in each data. We use two loops to solve this problem. The first loop to run the length of `lunch_menu` and the second loop to run the length of `order_item`. If the 0th position of `order_item` matches `lu_menu`,nch the list of `item_pric`e will append the 1th position of `order_item's` data which is the amount of items."
   ]
  },
  {
   "cell_type": "code",
   "execution_count": 29,
   "metadata": {},
   "outputs": [],
   "source": [
    "def get_amount_lu(data):\n",
    "    order_item = data['order_items']\n",
    "    item_price = []\n",
    "    for x in range(len(lunch_menu)):\n",
    "        for i in range(len(order_item)):\n",
    "            if lunch_menu[x] == order_item[i][0]:\n",
    "                item_price.append(order_item[i][1])\n",
    "    return item_price"
   ]
  },
  {
   "cell_type": "markdown",
   "metadata": {},
   "source": [
    "Finally, we just only get the column which has 5 order_items. Because, there are only 4 items in the lunch menu. Therefore, only get the data which has 5 order_items makes it easier for us to calculate the price of each item (4 functions, 4 variables)."
   ]
  },
  {
   "cell_type": "code",
   "execution_count": 30,
   "metadata": {},
   "outputs": [],
   "source": [
    "missing_csv_4items_lu = missing_csv[(missing_csv.order_type=='Lunch') & (missing_csv.order_items.str.len() > 60) ][['order_type','order_items','order_price']]\n",
    "missing_csv_4items_lu['order_items'] = missing_csv_4items_lu.apply(turnto_list, axis = 1)\n",
    "missing_csv_4items_lu.loc[(missing_csv_4items_lu.order_type=='Lunch'),'item_price_lu'] = missing_csv_4items_lu.apply(get_amount_lu, axis = 1)\n",
    "missing_csv_4items_lu = missing_csv_4items_lu.head()"
   ]
  },
  {
   "cell_type": "code",
   "execution_count": 31,
   "metadata": {},
   "outputs": [
    {
     "name": "stdout",
     "output_type": "stream",
     "text": [
      "['Salad', 'Burger', 'Fries', 'Chicken', 'Steak']\n"
     ]
    }
   ],
   "source": [
    "print(lunch_menu)"
   ]
  },
  {
   "cell_type": "markdown",
   "metadata": {},
   "source": [
    "In this part, we are going to calculate the price of each item. Firstly, we get a Two-dimensional list from `missing_csv_4items_bf`, then transform Two-dimensional list to Two-dimensional array. Secondly, get the `order_price` and turn to array. Finaly, use the `np.linalg.solve` method to caculate the equation, then add the cach item and each price into a dictionary."
   ]
  },
  {
   "cell_type": "code",
   "execution_count": 32,
   "metadata": {},
   "outputs": [
    {
     "data": {
      "text/plain": [
       "{'Salad': 17.2, 'Burger': 31.0, 'Fries': 12.0, 'Chicken': 32.0, 'Steak': 45.0}"
      ]
     },
     "execution_count": 32,
     "metadata": {},
     "output_type": "execute_result"
    }
   ],
   "source": [
    "lu_menu_price = {}\n",
    "lu_amount = []\n",
    "for i in missing_csv_4items_lu.index.values:\n",
    "    lu_amount.append(missing_csv_4items_lu['item_price_lu'][i])\n",
    "\n",
    "for x in range(len(lu_amount)):\n",
    "    lu_amount[x] = np.array(lu_amount[x])\n",
    "lu_amount = np.array(lu_amount)\n",
    "\n",
    "lu_price = np.array(missing_csv_4items_lu['order_price'])\n",
    "\n",
    "lu_unit_price = np.linalg.solve(lu_amount, lu_price)\n",
    "\n",
    "for i in range(len(lunch_menu)):\n",
    "    lu_menu_price[lunch_menu[i]] = round(lu_unit_price[i],2)\n",
    "lu_menu_price"
   ]
  },
  {
   "cell_type": "markdown",
   "metadata": {},
   "source": [
    "### Dinner item price"
   ]
  },
  {
   "cell_type": "markdown",
   "metadata": {},
   "source": [
    "Then, We are going to find the number of order items in each data. We use two loops to solve this problem. The first loop to run the length of `dinner_menu` and the second loop to run the length of `order_item`. If the 0th position of `order_item` matches `dinner_menu`, the list of `item_price` will append the 1th position of `order_item's` data which is the amount of items."
   ]
  },
  {
   "cell_type": "code",
   "execution_count": 33,
   "metadata": {},
   "outputs": [],
   "source": [
    "def get_amount_di(data):\n",
    "    order_item = data['order_items']\n",
    "    item_price = []\n",
    "    for x in range(len(dinner_menu)):\n",
    "        for i in range(len(order_item)):\n",
    "            if dinner_menu[x] == order_item[i][0]:\n",
    "                item_price.append(order_item[i][1])\n",
    "    return item_price"
   ]
  },
  {
   "cell_type": "markdown",
   "metadata": {},
   "source": [
    "Finally, we just only get the column which has 4 order_items. Because, there are only 4 items in the dinner menu. Therefore, only get the data which has 4 order_items makes it easier for us to calculate the price of each item (4 functions, 4 variables)."
   ]
  },
  {
   "cell_type": "code",
   "execution_count": 34,
   "metadata": {},
   "outputs": [],
   "source": [
    "missing_csv_4items_di = missing_csv[(missing_csv.order_type=='Dinner') & (missing_csv.order_items.str.len() > 50) ][['order_type','order_items','order_price']]\n",
    "missing_csv_4items_di['order_items'] = missing_csv_4items_di.apply(turnto_list, axis = 1)\n",
    "missing_csv_4items_di.loc[(missing_csv_4items_di.order_type=='Dinner'),'item_price_di'] = missing_csv_4items_di.apply(get_amount_di, axis = 1)\n",
    "missing_csv_4items_di = missing_csv_4items_di.head(4)"
   ]
  },
  {
   "cell_type": "code",
   "execution_count": 35,
   "metadata": {},
   "outputs": [
    {
     "name": "stdout",
     "output_type": "stream",
     "text": [
      "['Fish&Chips', 'Salmon', 'Pasta', 'Shrimp']\n"
     ]
    }
   ],
   "source": [
    "print(dinner_menu)"
   ]
  },
  {
   "cell_type": "markdown",
   "metadata": {},
   "source": [
    "In this part, we are going to calculate the price of each item. Firstly, we get a Two-dimensional list from `missing_csv_4items_bf`, then transform Two-dimensional list to Two-dimensional array. Secondly, get the `order_price` and turn to array. Finaly, use the `np.linalg.solve` method to caculate the equation, then add the cach item and each price into a dictionary."
   ]
  },
  {
   "cell_type": "code",
   "execution_count": 36,
   "metadata": {},
   "outputs": [
    {
     "data": {
      "text/plain": [
       "{'Fish&Chips': 35.0, 'Salmon': 41.0, 'Pasta': 27.5, 'Shrimp': 54.0}"
      ]
     },
     "execution_count": 36,
     "metadata": {},
     "output_type": "execute_result"
    }
   ],
   "source": [
    "di_menu_price = {}\n",
    "di_amount = []\n",
    "for i in missing_csv_4items_di.index.values:\n",
    "    di_amount.append(missing_csv_4items_di['item_price_di'][i])\n",
    "\n",
    "for x in range(len(di_amount)):\n",
    "    di_amount[x] = np.array(di_amount[x])\n",
    "di_amount = np.array(di_amount)\n",
    "\n",
    "di_price = np.array(missing_csv_4items_di['order_price'])\n",
    "\n",
    "di_unit_price = np.linalg.solve(di_amount, di_price)\n",
    "\n",
    "for i in range(len(dinner_menu)):\n",
    "    di_menu_price[dinner_menu[i]] = round(di_unit_price[i],2)\n",
    "di_menu_price"
   ]
  },
  {
   "cell_type": "markdown",
   "metadata": {},
   "source": [
    "Finally, we can see that each items and it price in each menus"
   ]
  },
  {
   "cell_type": "code",
   "execution_count": 37,
   "metadata": {},
   "outputs": [
    {
     "name": "stdout",
     "output_type": "stream",
     "text": [
      "breakfast_menu: {'Pancake': 24.25, 'Coffee': 7.5, 'Cereal': 21.0, 'Eggs': 22.0}\n",
      "lunch_menu: {'Salad': 17.2, 'Burger': 31.0, 'Fries': 12.0, 'Chicken': 32.0, 'Steak': 45.0}\n",
      "dinner_menu: {'Fish&Chips': 35.0, 'Salmon': 41.0, 'Pasta': 27.5, 'Shrimp': 54.0}\n"
     ]
    }
   ],
   "source": [
    "print('breakfast_menu:',br_menu_price)\n",
    "print('lunch_menu:',lu_menu_price)\n",
    "print('dinner_menu:',di_menu_price)"
   ]
  },
  {
   "cell_type": "markdown",
   "metadata": {},
   "source": [
    "### replace the wrong menu in dirty csv"
   ]
  },
  {
   "cell_type": "markdown",
   "metadata": {},
   "source": [
    "In this part, we are going to replace the wrong item in each data. Firstly, transfer list and tuple to a dictionary and get the wrong item which should not appear in this order_items. Secondly, use the two function of loops to check the data. First loop use to caculate the price of wrong item. If it has wrong item in each data, get sum of the price of right items from `br_menu_price`, then cacluate the price of the wrong item (the price of wrong item - sum of the price of right item). Second loop use to the ratio of the correct number of items to the number of wrong items. If the data can be divisible by value, we can get the ratio of the correct number of items to the number of wrong items and the result number of the right items. Finally, remove the wrong item from this `order_items` and return to the list format\n"
   ]
  },
  {
   "cell_type": "code",
   "execution_count": 38,
   "metadata": {},
   "outputs": [],
   "source": [
    "dirty_csv['order_items'] = dirty_csv.apply(turnto_list, axis = 1)"
   ]
  },
  {
   "cell_type": "code",
   "execution_count": 39,
   "metadata": {},
   "outputs": [],
   "source": [
    "def replace_wrong_item(data):\n",
    "    dict_menu = dict(data['order_items']) ## tranform list and tuple to a dictionary\n",
    "    if data['order_type'] == 'Breakfast':\n",
    "        \n",
    "        wrong_item = list(set(dict_menu.keys()) - set(breakfast_menu)) ## get the wrong item which should not appear in this order_items\n",
    "        price = 0 ##initialize price\n",
    "        if len(wrong_item) == 1: ## if it has wrong item\n",
    "            \n",
    "            for key, value in dict_menu.items():\n",
    "                if key != wrong_item[0]: \n",
    "                    price += int(value) * br_menu_price[key].item()##get sum of the price of right items\n",
    "            right_item_price = (data['order_price'] - price)/int(dict_menu[wrong_item[0]])## caculate the price of the wrong item\n",
    "            \n",
    "            for key,value in br_menu_price.items():\n",
    "                if right_item_price % value == 0: ##If the result of the calculation just can be divisible\n",
    "                    result = right_item_price/value ## Get the ratio of the correct number of items to the number of wrong items\n",
    "                    \n",
    "                    dict_menu[key] = int(dict_menu[wrong_item[0]])*int(result) ## and we get the result number of the right items and append in the 'order_item'\n",
    "                    \n",
    "            del dict_menu[wrong_item[0]] ## remove the wrong item from this order_items\n",
    "            right_order_bf = list(dict_menu.items()) ##return a orginal format\n",
    "            return right_order_bf\n",
    "                    \n",
    "        else: ##if we don't have error for this row, return orginal data\n",
    "            return data['order_items']\n",
    "        \n",
    "        \n",
    "    ## the following code is similar as the 'Breakfast'    \n",
    "    elif data['order_type'] == 'Lunch':\n",
    "        \n",
    "        wrong_item = list(set(dict_menu.keys()) - set(lunch_menu))\n",
    "\n",
    "        price = 0\n",
    "        if len(wrong_item) == 1:\n",
    "            for key, value in dict_menu.items():\n",
    "                if key != wrong_item[0]:\n",
    "                    price += int(value) * lu_menu_price[key].item()\n",
    "            right_item_price = (data['order_price'] - price)/int(dict_menu[wrong_item[0]])\n",
    "            for key,value in lu_menu_price.items():\n",
    "                if right_item_price % value == 0:\n",
    "                    result = right_item_price/value\n",
    "                    \n",
    "                    dict_menu[key] = int(dict_menu[wrong_item[0]])*int(result)\n",
    "                   \n",
    "            del dict_menu[wrong_item[0]]\n",
    "            right_order_lu = list(dict_menu.items())\n",
    "            return right_order_lu\n",
    "                    \n",
    "        else:\n",
    "            return data['order_items']\n",
    "        \n",
    "        \n",
    "       ## 'Dinner' part \n",
    "    elif data['order_type'] == 'Dinner':\n",
    "        \n",
    "        wrong_item = list(set(dict_menu.keys()) - set(dinner_menu))\n",
    "\n",
    "        price = 0\n",
    "        if len(wrong_item) == 1:\n",
    "            for key, value in dict_menu.items():\n",
    "                if key != wrong_item[0]:\n",
    "                    price += int(value) * di_menu_price[key].item()\n",
    "            right_item_price = (data['order_price'] - price)/int(dict_menu[wrong_item[0]])\n",
    "            for key,value in di_menu_price.items():\n",
    "                if right_item_price % value == 0:\n",
    "                    result = right_item_price/value\n",
    "                    \n",
    "                    dict_menu[key] = int(dict_menu[wrong_item[0]])*int(result)\n",
    "                   \n",
    "            del dict_menu[wrong_item[0]]\n",
    "            right_order_di = list(dict_menu.items())\n",
    "            return right_order_di\n",
    "                    \n",
    "        else:\n",
    "            return data['order_items']"
   ]
  },
  {
   "cell_type": "code",
   "execution_count": 40,
   "metadata": {},
   "outputs": [],
   "source": [
    "dirty_csv['order_items'] = dirty_csv.apply(replace_wrong_item, axis=1)"
   ]
  },
  {
   "cell_type": "markdown",
   "metadata": {},
   "source": [
    "Here is a valiadation function to check wether a order_item include item comes from other order_type. So if it has other items, return 1, otherwise, return 0. So we can sum up the values in new column which store the values. Finally, we found there is no errors after fixing,"
   ]
  },
  {
   "cell_type": "code",
   "execution_count": 41,
   "metadata": {},
   "outputs": [],
   "source": [
    "## Check wether it has error or not after modified\n",
    "def check_order_item(data):\n",
    "    dict_menu = dict(data['order_items'])\n",
    "    if data['order_type'] == 'Breakfast':\n",
    "        for key in dict_menu.keys():\n",
    "            if key in lunch_menu or key in dinner_menu:\n",
    "                return 1\n",
    "            else:\n",
    "                return 0\n",
    "            \n",
    "    elif data['order_type'] == 'Lunch':\n",
    "        for key in dict_menu.keys():\n",
    "            if key in breakfast_menu or key in dinner_menu:\n",
    "                return 1\n",
    "            else:\n",
    "                return 0\n",
    "            \n",
    "    elif data['order_type'] == 'Dinner':\n",
    "        for key in dict_menu.keys():\n",
    "            if key in breakfast_menu or key in lunch_menu:\n",
    "                return 1\n",
    "            else:\n",
    "                return 0"
   ]
  },
  {
   "cell_type": "code",
   "execution_count": 42,
   "metadata": {},
   "outputs": [],
   "source": [
    "dirty_csv['order_items_has_error?'] = dirty_csv.apply(check_order_item, axis=1)"
   ]
  },
  {
   "cell_type": "code",
   "execution_count": 43,
   "metadata": {},
   "outputs": [
    {
     "data": {
      "text/plain": [
       "0"
      ]
     },
     "execution_count": 43,
     "metadata": {},
     "output_type": "execute_result"
    }
   ],
   "source": [
    "dirty_csv.loc[dirty_csv['order_items_has_error?']==0,'order_items_has_error?'].sum(axis=0)"
   ]
  },
  {
   "cell_type": "markdown",
   "metadata": {},
   "source": [
    "## 1.7 Order_price"
   ]
  },
  {
   "cell_type": "markdown",
   "metadata": {},
   "source": [
    "In this part, we are going to see whether the data of `order_price` have errors. Use the `describe` function to see the detail information of `order_price`"
   ]
  },
  {
   "cell_type": "code",
   "execution_count": 44,
   "metadata": {},
   "outputs": [
    {
     "data": {
      "text/plain": [
       "count     500.000000\n",
       "mean      499.384900\n",
       "std       273.778058\n",
       "min        46.400000\n",
       "25%       287.000000\n",
       "50%       447.300000\n",
       "75%       673.500000\n",
       "max      1465.500000\n",
       "Name: order_price, dtype: float64"
      ]
     },
     "execution_count": 44,
     "metadata": {},
     "output_type": "execute_result"
    }
   ],
   "source": [
    "dirty_csv['order_price'].describe()"
   ]
  },
  {
   "cell_type": "markdown",
   "metadata": {},
   "source": [
    "First of all, put the data of `order_items` into a dictionary. Then use the function of loop to run each items. If `order_type` is Breakfast, the price will plus each value times the position of menu. In addition, if the difference greater than 5, the price will be changed."
   ]
  },
  {
   "cell_type": "code",
   "execution_count": 45,
   "metadata": {},
   "outputs": [],
   "source": [
    "##modify the order_price\n",
    "def change_price(data):\n",
    "    items = dict(data['order_items'])\n",
    "    price = 0\n",
    "    \n",
    "    for key,value in items.items():\n",
    "        if data['order_type'] == 'Breakfast':\n",
    "            price += value * br_menu_price[key]\n",
    "        elif data['order_type'] == 'Lunch':\n",
    "            price += value * lu_menu_price[key]\n",
    "        elif data['order_type'] == 'Dinner':\n",
    "            price += value * di_menu_price[key]\n",
    "    if abs(data['order_price'] - price) > 5: ##if the difference greater than 5, change the price\n",
    "        return round(price,2)\n",
    "    else:\n",
    "        return data['order_price']"
   ]
  },
  {
   "cell_type": "code",
   "execution_count": 46,
   "metadata": {},
   "outputs": [],
   "source": [
    "dirty_csv['order_price'] = dirty_csv.apply(change_price, axis = 1)"
   ]
  },
  {
   "cell_type": "code",
   "execution_count": 47,
   "metadata": {},
   "outputs": [
    {
     "data": {
      "text/plain": [
       "count     500.000000\n",
       "mean      505.111100\n",
       "std       274.500359\n",
       "min        46.400000\n",
       "25%       294.375000\n",
       "50%       455.500000\n",
       "75%       687.200000\n",
       "max      1465.500000\n",
       "Name: order_price, dtype: float64"
      ]
     },
     "execution_count": 47,
     "metadata": {},
     "output_type": "execute_result"
    }
   ],
   "source": [
    "dirty_csv['order_price'].describe()"
   ]
  },
  {
   "cell_type": "markdown",
   "metadata": {},
   "source": [
    "## 1.8 Customer lat & lon"
   ]
  },
  {
   "cell_type": "markdown",
   "metadata": {},
   "source": [
    "In this part, we are going to find the error in `customer_lat` and `customer_lon`, then fix it. Use the `describe` method to see the detail information about the data of `customer_lat` and `customer_lon`."
   ]
  },
  {
   "cell_type": "code",
   "execution_count": 48,
   "metadata": {},
   "outputs": [
    {
     "data": {
      "text/html": [
       "<div>\n",
       "<style scoped>\n",
       "    .dataframe tbody tr th:only-of-type {\n",
       "        vertical-align: middle;\n",
       "    }\n",
       "\n",
       "    .dataframe tbody tr th {\n",
       "        vertical-align: top;\n",
       "    }\n",
       "\n",
       "    .dataframe thead th {\n",
       "        text-align: right;\n",
       "    }\n",
       "</style>\n",
       "<table border=\"1\" class=\"dataframe\">\n",
       "  <thead>\n",
       "    <tr style=\"text-align: right;\">\n",
       "      <th></th>\n",
       "      <th>customer_lat</th>\n",
       "      <th>customer_lon</th>\n",
       "    </tr>\n",
       "  </thead>\n",
       "  <tbody>\n",
       "    <tr>\n",
       "      <th>count</th>\n",
       "      <td>500.000000</td>\n",
       "      <td>500.000000</td>\n",
       "    </tr>\n",
       "    <tr>\n",
       "      <th>mean</th>\n",
       "      <td>-30.754307</td>\n",
       "      <td>143.505950</td>\n",
       "    </tr>\n",
       "    <tr>\n",
       "      <th>std</th>\n",
       "      <td>25.336874</td>\n",
       "      <td>16.299322</td>\n",
       "    </tr>\n",
       "    <tr>\n",
       "      <th>min</th>\n",
       "      <td>-37.827411</td>\n",
       "      <td>-37.822145</td>\n",
       "    </tr>\n",
       "    <tr>\n",
       "      <th>25%</th>\n",
       "      <td>-37.818698</td>\n",
       "      <td>144.952854</td>\n",
       "    </tr>\n",
       "    <tr>\n",
       "      <th>50%</th>\n",
       "      <td>-37.812172</td>\n",
       "      <td>144.966351</td>\n",
       "    </tr>\n",
       "    <tr>\n",
       "      <th>75%</th>\n",
       "      <td>-37.804828</td>\n",
       "      <td>144.983149</td>\n",
       "    </tr>\n",
       "    <tr>\n",
       "      <th>max</th>\n",
       "      <td>145.002764</td>\n",
       "      <td>145.016299</td>\n",
       "    </tr>\n",
       "  </tbody>\n",
       "</table>\n",
       "</div>"
      ],
      "text/plain": [
       "       customer_lat  customer_lon\n",
       "count    500.000000    500.000000\n",
       "mean     -30.754307    143.505950\n",
       "std       25.336874     16.299322\n",
       "min      -37.827411    -37.822145\n",
       "25%      -37.818698    144.952854\n",
       "50%      -37.812172    144.966351\n",
       "75%      -37.804828    144.983149\n",
       "max      145.002764    145.016299"
      ]
     },
     "execution_count": 48,
     "metadata": {},
     "output_type": "execute_result"
    }
   ],
   "source": [
    "dirty_csv[['customer_lat','customer_lon']].describe()"
   ]
  },
  {
   "cell_type": "markdown",
   "metadata": {},
   "source": [
    "Use the package of `plt.subplot` to find the wrong value "
   ]
  },
  {
   "cell_type": "code",
   "execution_count": 49,
   "metadata": {},
   "outputs": [
    {
     "data": {
      "image/png": "[encoded data removed]",
      "text/plain": [
       "<Figure size 432x288 with 2 Axes>"
      ]
     },
     "metadata": {
      "needs_background": "light"
     },
     "output_type": "display_data"
    }
   ],
   "source": [
    "## find the wrong value by plot\n",
    "plt.subplot(2,2,1)\n",
    "dirty_csv.customer_lat.plot.box()\n",
    "plt.subplot(2,2,2)\n",
    "dirty_csv.customer_lon.plot.box()\n",
    "plt.show()"
   ]
  },
  {
   "cell_type": "markdown",
   "metadata": {},
   "source": [
    "Then, set conditions to fix the error data. If `customer_lat` greater then 0 and `customer_lat` less than 40, it will add a negative mark if latitude is positive. If the `customer_lat` greater than 144, the data of `customer_lat` and the data of `customer_lon` will be exchanged."
   ]
  },
  {
   "cell_type": "code",
   "execution_count": 50,
   "metadata": {},
   "outputs": [],
   "source": [
    "def modify_location(data):\n",
    "    lat = data['customer_lat']\n",
    "    lon = data['customer_lon']\n",
    "    \n",
    "    if lat > 0 and lat < 40: ## add a negative mark if latitude is positive\n",
    "        return lat*(-1),lon\n",
    "    \n",
    "    elif lat > 144: ## exchange latitude and longitude\n",
    "        return lon,lat\n",
    "    \n",
    "    else:\n",
    "        return lat,lon"
   ]
  },
  {
   "cell_type": "markdown",
   "metadata": {},
   "source": [
    "Finally, apply the fixed data. Then, use the `plt.subplot` to check the data"
   ]
  },
  {
   "cell_type": "code",
   "execution_count": 51,
   "metadata": {},
   "outputs": [],
   "source": [
    "dirty_csv[['customer_lat','customer_lon']] = dirty_csv.apply(lambda data:pd.Series(modify_location(data)), axis = 1)"
   ]
  },
  {
   "cell_type": "code",
   "execution_count": 52,
   "metadata": {},
   "outputs": [
    {
     "data": {
      "image/png": "[encoded data removed]",
      "text/plain": [
       "<Figure size 432x288 with 2 Axes>"
      ]
     },
     "metadata": {
      "needs_background": "light"
     },
     "output_type": "display_data"
    }
   ],
   "source": [
    "##check the data after modified\n",
    "plt.subplot(2,2,1)\n",
    "dirty_csv.customer_lat.plot.box()\n",
    "plt.subplot(2,2,2)\n",
    "dirty_csv.customer_lon.plot.box()\n",
    "plt.show()"
   ]
  },
  {
   "cell_type": "markdown",
   "metadata": {},
   "source": [
    "## 1.9 customerHasloyalty?"
   ]
  },
  {
   "cell_type": "markdown",
   "metadata": {},
   "source": [
    "In this part, we are going to check whether the customerHasloyalty have errors."
   ]
  },
  {
   "cell_type": "code",
   "execution_count": 53,
   "metadata": {},
   "outputs": [
    {
     "data": {
      "text/html": [
       "<div>\n",
       "<style scoped>\n",
       "    .dataframe tbody tr th:only-of-type {\n",
       "        vertical-align: middle;\n",
       "    }\n",
       "\n",
       "    .dataframe tbody tr th {\n",
       "        vertical-align: top;\n",
       "    }\n",
       "\n",
       "    .dataframe thead th {\n",
       "        text-align: right;\n",
       "    }\n",
       "</style>\n",
       "<table border=\"1\" class=\"dataframe\">\n",
       "  <thead>\n",
       "    <tr style=\"text-align: right;\">\n",
       "      <th></th>\n",
       "      <th>order_id</th>\n",
       "      <th>date</th>\n",
       "      <th>time</th>\n",
       "      <th>order_type</th>\n",
       "      <th>branch_code</th>\n",
       "      <th>order_items</th>\n",
       "      <th>order_price</th>\n",
       "      <th>customer_lat</th>\n",
       "      <th>customer_lon</th>\n",
       "      <th>customerHasloyalty?</th>\n",
       "      <th>distance_to_customer_KM</th>\n",
       "      <th>delivery_fee</th>\n",
       "      <th>order_items_has_error?</th>\n",
       "    </tr>\n",
       "  </thead>\n",
       "  <tbody>\n",
       "  </tbody>\n",
       "</table>\n",
       "</div>"
      ],
      "text/plain": [
       "Empty DataFrame\n",
       "Columns: [order_id, date, time, order_type, branch_code, order_items, order_price, customer_lat, customer_lon, customerHasloyalty?, distance_to_customer_KM, delivery_fee, order_items_has_error?]\n",
       "Index: []"
      ]
     },
     "execution_count": 53,
     "metadata": {},
     "output_type": "execute_result"
    }
   ],
   "source": [
    "## check wether it has other value except 0 and 1\n",
    "dirty_csv[(dirty_csv['customerHasloyalty?'] != 0) & (dirty_csv['customerHasloyalty?'] != 1)]"
   ]
  },
  {
   "cell_type": "markdown",
   "metadata": {},
   "source": [
    "## 1.10 distance_to_customer_KM"
   ]
  },
  {
   "cell_type": "markdown",
   "metadata": {},
   "source": [
    "In this part, we are going to find the correct data about `distance_to_customer_KM` by `shortest distance` method. First of all, check the detail information about `distance_to_customer_KM`"
   ]
  },
  {
   "cell_type": "code",
   "execution_count": 54,
   "metadata": {},
   "outputs": [
    {
     "data": {
      "text/plain": [
       "count    500.000000\n",
       "mean       8.701362\n",
       "std        1.621212\n",
       "min        4.077000\n",
       "25%        7.726000\n",
       "50%        8.788000\n",
       "75%        9.840250\n",
       "max       12.892000\n",
       "Name: distance_to_customer_KM, dtype: float64"
      ]
     },
     "execution_count": 54,
     "metadata": {},
     "output_type": "execute_result"
    }
   ],
   "source": [
    "dirty_csv['distance_to_customer_KM'].describe()"
   ]
  },
  {
   "cell_type": "code",
   "execution_count": 55,
   "metadata": {},
   "outputs": [
    {
     "data": {
      "text/html": [
       "<div>\n",
       "<style scoped>\n",
       "    .dataframe tbody tr th:only-of-type {\n",
       "        vertical-align: middle;\n",
       "    }\n",
       "\n",
       "    .dataframe tbody tr th {\n",
       "        vertical-align: top;\n",
       "    }\n",
       "\n",
       "    .dataframe thead th {\n",
       "        text-align: right;\n",
       "    }\n",
       "</style>\n",
       "<table border=\"1\" class=\"dataframe\">\n",
       "  <thead>\n",
       "    <tr style=\"text-align: right;\">\n",
       "      <th></th>\n",
       "      <th>branch_code</th>\n",
       "      <th>branch_name</th>\n",
       "      <th>branch_lat</th>\n",
       "      <th>branch_lon</th>\n",
       "    </tr>\n",
       "  </thead>\n",
       "  <tbody>\n",
       "    <tr>\n",
       "      <th>0</th>\n",
       "      <td>NS</td>\n",
       "      <td>Nickolson</td>\n",
       "      <td>-37.773803</td>\n",
       "      <td>144.983647</td>\n",
       "    </tr>\n",
       "    <tr>\n",
       "      <th>1</th>\n",
       "      <td>TP</td>\n",
       "      <td>Thompson</td>\n",
       "      <td>-37.861835</td>\n",
       "      <td>144.905716</td>\n",
       "    </tr>\n",
       "    <tr>\n",
       "      <th>2</th>\n",
       "      <td>BK</td>\n",
       "      <td>Bakers</td>\n",
       "      <td>-37.815834</td>\n",
       "      <td>145.046450</td>\n",
       "    </tr>\n",
       "  </tbody>\n",
       "</table>\n",
       "</div>"
      ],
      "text/plain": [
       "  branch_code branch_name  branch_lat  branch_lon\n",
       "0          NS   Nickolson  -37.773803  144.983647\n",
       "1          TP    Thompson  -37.861835  144.905716\n",
       "2          BK      Bakers  -37.815834  145.046450"
      ]
     },
     "execution_count": 55,
     "metadata": {},
     "output_type": "execute_result"
    }
   ],
   "source": [
    "branches.head()"
   ]
  },
  {
   "cell_type": "code",
   "execution_count": 56,
   "metadata": {},
   "outputs": [
    {
     "data": {
      "text/html": [
       "<div>\n",
       "<style scoped>\n",
       "    .dataframe tbody tr th:only-of-type {\n",
       "        vertical-align: middle;\n",
       "    }\n",
       "\n",
       "    .dataframe tbody tr th {\n",
       "        vertical-align: top;\n",
       "    }\n",
       "\n",
       "    .dataframe thead th {\n",
       "        text-align: right;\n",
       "    }\n",
       "</style>\n",
       "<table border=\"1\" class=\"dataframe\">\n",
       "  <thead>\n",
       "    <tr style=\"text-align: right;\">\n",
       "      <th></th>\n",
       "      <th>node</th>\n",
       "      <th>lat</th>\n",
       "      <th>lon</th>\n",
       "    </tr>\n",
       "  </thead>\n",
       "  <tbody>\n",
       "    <tr>\n",
       "      <th>0</th>\n",
       "      <td>711327755</td>\n",
       "      <td>-37.807675</td>\n",
       "      <td>144.955873</td>\n",
       "    </tr>\n",
       "    <tr>\n",
       "      <th>1</th>\n",
       "      <td>711327756</td>\n",
       "      <td>-37.807094</td>\n",
       "      <td>144.955978</td>\n",
       "    </tr>\n",
       "    <tr>\n",
       "      <th>2</th>\n",
       "      <td>711327759</td>\n",
       "      <td>-37.807301</td>\n",
       "      <td>144.957817</td>\n",
       "    </tr>\n",
       "    <tr>\n",
       "      <th>3</th>\n",
       "      <td>711327760</td>\n",
       "      <td>-37.807885</td>\n",
       "      <td>144.957719</td>\n",
       "    </tr>\n",
       "    <tr>\n",
       "      <th>4</th>\n",
       "      <td>777781264</td>\n",
       "      <td>-37.805221</td>\n",
       "      <td>144.952173</td>\n",
       "    </tr>\n",
       "  </tbody>\n",
       "</table>\n",
       "</div>"
      ],
      "text/plain": [
       "        node        lat         lon\n",
       "0  711327755 -37.807675  144.955873\n",
       "1  711327756 -37.807094  144.955978\n",
       "2  711327759 -37.807301  144.957817\n",
       "3  711327760 -37.807885  144.957719\n",
       "4  777781264 -37.805221  144.952173"
      ]
     },
     "execution_count": 56,
     "metadata": {},
     "output_type": "execute_result"
    }
   ],
   "source": [
    "nodes.head()"
   ]
  },
  {
   "cell_type": "markdown",
   "metadata": {},
   "source": [
    "Due to calculating the shortest distance need the data information in the three files `nodes.csv`, `branches.csv`, and `dirty.csv`, we use the function of `pd.merge` to merge files."
   ]
  },
  {
   "cell_type": "code",
   "execution_count": 57,
   "metadata": {},
   "outputs": [],
   "source": [
    "## merge nodes.csv and branches.csv\n",
    "branches = pd.merge(branches, nodes, how = 'left', left_on = ['branch_lat', 'branch_lon'], right_on = ['lat','lon'])\n",
    "branches = branches.drop(columns = ['lat','lon'])\n",
    "branches = branches.rename(columns={'node': 'branch_node'})"
   ]
  },
  {
   "cell_type": "code",
   "execution_count": 58,
   "metadata": {},
   "outputs": [],
   "source": [
    "## merge branches.csv and dirty.csv\n",
    "dirty_csv = pd.merge(dirty_csv, branches, how = 'left', on = 'branch_code')\n",
    "dirty_csv = pd.merge(dirty_csv, nodes, how = 'left', left_on = ['customer_lat','customer_lon'], right_on = ['lat','lon'])\n",
    "dirty_csv = dirty_csv.drop(columns = ['lat','lon','branch_lat','branch_lon'])\n",
    "dirty_csv = dirty_csv.rename(columns={'node': 'customer_node'})"
   ]
  },
  {
   "cell_type": "code",
   "execution_count": 59,
   "metadata": {},
   "outputs": [
    {
     "data": {
      "text/html": [
       "<div>\n",
       "<style scoped>\n",
       "    .dataframe tbody tr th:only-of-type {\n",
       "        vertical-align: middle;\n",
       "    }\n",
       "\n",
       "    .dataframe tbody tr th {\n",
       "        vertical-align: top;\n",
       "    }\n",
       "\n",
       "    .dataframe thead th {\n",
       "        text-align: right;\n",
       "    }\n",
       "</style>\n",
       "<table border=\"1\" class=\"dataframe\">\n",
       "  <thead>\n",
       "    <tr style=\"text-align: right;\">\n",
       "      <th></th>\n",
       "      <th>order_id</th>\n",
       "      <th>date</th>\n",
       "      <th>time</th>\n",
       "      <th>order_type</th>\n",
       "      <th>branch_code</th>\n",
       "      <th>order_items</th>\n",
       "      <th>order_price</th>\n",
       "      <th>customer_lat</th>\n",
       "      <th>customer_lon</th>\n",
       "      <th>customerHasloyalty?</th>\n",
       "      <th>distance_to_customer_KM</th>\n",
       "      <th>delivery_fee</th>\n",
       "      <th>order_items_has_error?</th>\n",
       "      <th>branch_name</th>\n",
       "      <th>branch_node</th>\n",
       "      <th>customer_node</th>\n",
       "    </tr>\n",
       "  </thead>\n",
       "  <tbody>\n",
       "    <tr>\n",
       "      <th>0</th>\n",
       "      <td>ORDC01406</td>\n",
       "      <td>2018-08-07</td>\n",
       "      <td>15:16:03</td>\n",
       "      <td>Lunch</td>\n",
       "      <td>NS</td>\n",
       "      <td>[(Fries, 6), (Salad, 4)]</td>\n",
       "      <td>140.80</td>\n",
       "      <td>-37.812539</td>\n",
       "      <td>144.954121</td>\n",
       "      <td>1</td>\n",
       "      <td>8.335</td>\n",
       "      <td>13.700428</td>\n",
       "      <td>0</td>\n",
       "      <td>Nickolson</td>\n",
       "      <td>2455254505</td>\n",
       "      <td>6167279389</td>\n",
       "    </tr>\n",
       "    <tr>\n",
       "      <th>1</th>\n",
       "      <td>ORDZ10125</td>\n",
       "      <td>2018-01-12</td>\n",
       "      <td>08:20:16</td>\n",
       "      <td>Breakfast</td>\n",
       "      <td>NS</td>\n",
       "      <td>[(Cereal, 8), (Pancake, 6)]</td>\n",
       "      <td>313.50</td>\n",
       "      <td>-37.809310</td>\n",
       "      <td>144.972170</td>\n",
       "      <td>1</td>\n",
       "      <td>7.536</td>\n",
       "      <td>6.167473</td>\n",
       "      <td>0</td>\n",
       "      <td>Nickolson</td>\n",
       "      <td>2455254505</td>\n",
       "      <td>277089929</td>\n",
       "    </tr>\n",
       "    <tr>\n",
       "      <th>2</th>\n",
       "      <td>ORDZ04175</td>\n",
       "      <td>2018-07-06</td>\n",
       "      <td>14:05:04</td>\n",
       "      <td>Lunch</td>\n",
       "      <td>NS</td>\n",
       "      <td>[(Steak, 3), (Salad, 1), (Chicken, 6), (Fries,...</td>\n",
       "      <td>640.20</td>\n",
       "      <td>-37.820482</td>\n",
       "      <td>144.994806</td>\n",
       "      <td>0</td>\n",
       "      <td>9.860</td>\n",
       "      <td>15.088928</td>\n",
       "      <td>0</td>\n",
       "      <td>Nickolson</td>\n",
       "      <td>2455254505</td>\n",
       "      <td>3804564097</td>\n",
       "    </tr>\n",
       "    <tr>\n",
       "      <th>3</th>\n",
       "      <td>ORDI03691</td>\n",
       "      <td>2018-04-26</td>\n",
       "      <td>11:43:05</td>\n",
       "      <td>Breakfast</td>\n",
       "      <td>NS</td>\n",
       "      <td>[(Pancake, 9), (Eggs, 10), (Cereal, 2)]</td>\n",
       "      <td>480.25</td>\n",
       "      <td>-37.818697</td>\n",
       "      <td>144.965774</td>\n",
       "      <td>0</td>\n",
       "      <td>8.614</td>\n",
       "      <td>13.684368</td>\n",
       "      <td>0</td>\n",
       "      <td>Nickolson</td>\n",
       "      <td>2455254505</td>\n",
       "      <td>591435981</td>\n",
       "    </tr>\n",
       "    <tr>\n",
       "      <th>4</th>\n",
       "      <td>ORDZ04094</td>\n",
       "      <td>2018-04-10</td>\n",
       "      <td>11:12:40</td>\n",
       "      <td>Breakfast</td>\n",
       "      <td>NS</td>\n",
       "      <td>[(Eggs, 5), (Coffee, 3), (Pancake, 9), (Cereal...</td>\n",
       "      <td>497.75</td>\n",
       "      <td>-37.820609</td>\n",
       "      <td>144.966868</td>\n",
       "      <td>0</td>\n",
       "      <td>8.802</td>\n",
       "      <td>13.760744</td>\n",
       "      <td>0</td>\n",
       "      <td>Nickolson</td>\n",
       "      <td>2455254505</td>\n",
       "      <td>154044549</td>\n",
       "    </tr>\n",
       "  </tbody>\n",
       "</table>\n",
       "</div>"
      ],
      "text/plain": [
       "    order_id       date      time order_type branch_code  \\\n",
       "0  ORDC01406 2018-08-07  15:16:03      Lunch          NS   \n",
       "1  ORDZ10125 2018-01-12  08:20:16  Breakfast          NS   \n",
       "2  ORDZ04175 2018-07-06  14:05:04      Lunch          NS   \n",
       "3  ORDI03691 2018-04-26  11:43:05  Breakfast          NS   \n",
       "4  ORDZ04094 2018-04-10  11:12:40  Breakfast          NS   \n",
       "\n",
       "                                         order_items  order_price  \\\n",
       "0                           [(Fries, 6), (Salad, 4)]       140.80   \n",
       "1                        [(Cereal, 8), (Pancake, 6)]       313.50   \n",
       "2  [(Steak, 3), (Salad, 1), (Chicken, 6), (Fries,...       640.20   \n",
       "3            [(Pancake, 9), (Eggs, 10), (Cereal, 2)]       480.25   \n",
       "4  [(Eggs, 5), (Coffee, 3), (Pancake, 9), (Cereal...       497.75   \n",
       "\n",
       "   customer_lat  customer_lon  customerHasloyalty?  distance_to_customer_KM  \\\n",
       "0    -37.812539    144.954121                    1                    8.335   \n",
       "1    -37.809310    144.972170                    1                    7.536   \n",
       "2    -37.820482    144.994806                    0                    9.860   \n",
       "3    -37.818697    144.965774                    0                    8.614   \n",
       "4    -37.820609    144.966868                    0                    8.802   \n",
       "\n",
       "   delivery_fee  order_items_has_error? branch_name  branch_node  \\\n",
       "0     13.700428                       0   Nickolson   2455254505   \n",
       "1      6.167473                       0   Nickolson   2455254505   \n",
       "2     15.088928                       0   Nickolson   2455254505   \n",
       "3     13.684368                       0   Nickolson   2455254505   \n",
       "4     13.760744                       0   Nickolson   2455254505   \n",
       "\n",
       "   customer_node  \n",
       "0     6167279389  \n",
       "1      277089929  \n",
       "2     3804564097  \n",
       "3      591435981  \n",
       "4      154044549  "
      ]
     },
     "execution_count": 59,
     "metadata": {},
     "output_type": "execute_result"
    }
   ],
   "source": [
    "dirty_csv.head()"
   ]
  },
  {
   "cell_type": "markdown",
   "metadata": {},
   "source": [
    "Create the bilateral edges and define the weight to calculate the time (`(distance(m) / 1000)/speed(km/h))`. Then, define network. Finally, add nodes in each data and add the relationship and weight for each line."
   ]
  },
  {
   "cell_type": "code",
   "execution_count": 60,
   "metadata": {},
   "outputs": [
    {
     "name": "stderr",
     "output_type": "stream",
     "text": [
      "C:\\Users\\xxxx\\Anaconda3\\lib\\site-packages\\ipykernel_launcher.py:2: FutureWarning: Sorting because non-concatenation axis is not aligned. A future version\n",
      "of pandas will change to not sort by default.\n",
      "\n",
      "To accept the future behavior, pass 'sort=False'.\n",
      "\n",
      "To retain the current behavior and silence the warning, pass 'sort=True'.\n",
      "\n",
      "  \n"
     ]
    }
   ],
   "source": [
    "##create the bilateral edges\n",
    "edges = pd.concat([edges,edges.rename(columns = {'u':'v', 'v':'u'})])\n",
    "##define the weight\n",
    "edges['time(h)'] = (edges['distance(m)']/1000)/edges['speed(km/h)']\n",
    "#define network\n",
    "G=nx.DiGraph()\n",
    "row=edges.u.values\n",
    "col=edges.v.values\n",
    "value=edges['time(h)'].values\n",
    "node = nodes['node'].values\n",
    "\n",
    "##add nodes\n",
    "for i in node:\n",
    "    G.add_node(i)\n",
    "\n",
    "##add the relationship and weight for each line\n",
    "for i in range(np.size(row)):\n",
    "    G.add_weighted_edges_from([(row[i],col[i],value[i])])\n",
    "        "
   ]
  },
  {
   "cell_type": "markdown",
   "metadata": {},
   "source": [
    "In the `find_shortest_distance` method, we set the time consumption as the weight of a road(two nodes). But the shortest distance is the ideal output that we want. So there is a methodology I used is using `for` loop to get all the roads from the `path`, and find the distance of this roda to sum up. (the `for` loop should be start with `i-1` not `i`. Because if we set start is `i`, there will be errors when calculating the path). Finally, we use the function of `abs` and set a condition to caculate data. If the caculated data minus the distance which in `distance_to_customer_KM` greate than 0.5, return the distance / 1000."
   ]
  },
  {
   "cell_type": "code",
   "execution_count": 61,
   "metadata": {},
   "outputs": [],
   "source": [
    "def find_shortest_distance(data):\n",
    "    start_point = data['branch_node']\n",
    "    end_point = data['customer_node']\n",
    "    path = nx.dijkstra_path(G, source = start_point, target = end_point)##get a list contains the path\n",
    "    \n",
    "    distance = 0\n",
    "    \n",
    "    for i in range(1,len(path)):## to caculate the shortest distance between two nodes\n",
    "        start = path[i-1]\n",
    "        end = path[i]\n",
    "        distance += int(edges[(edges.u == start) & (edges.v == end)]['distance(m)'].tolist()[0])\n",
    " \n",
    "    if abs(distance/1000 - data['distance_to_customer_KM']) > 0.5: ## if the difference is greater than\n",
    "        return round(distance/1000,3)\n",
    "    else:\n",
    "        return data['distance_to_customer_KM']\n"
   ]
  },
  {
   "cell_type": "markdown",
   "metadata": {},
   "source": [
    "Apply the fixed data and use the function of `describe` to see the detail information."
   ]
  },
  {
   "cell_type": "code",
   "execution_count": 62,
   "metadata": {},
   "outputs": [],
   "source": [
    "dirty_csv['distance_to_customer_KM'] = dirty_csv.apply(find_shortest_distance, axis = 1)"
   ]
  },
  {
   "cell_type": "code",
   "execution_count": 63,
   "metadata": {},
   "outputs": [
    {
     "data": {
      "text/plain": [
       "count    500.000000\n",
       "mean       8.725774\n",
       "std        1.644218\n",
       "min        4.077000\n",
       "25%        7.731000\n",
       "50%        8.814000\n",
       "75%        9.840250\n",
       "max       13.939000\n",
       "Name: distance_to_customer_KM, dtype: float64"
      ]
     },
     "execution_count": 63,
     "metadata": {},
     "output_type": "execute_result"
    }
   ],
   "source": [
    "dirty_csv['distance_to_customer_KM'].describe()"
   ]
  },
  {
   "cell_type": "markdown",
   "metadata": {},
   "source": [
    "## 1.11 delivery fee"
   ]
  },
  {
   "cell_type": "markdown",
   "metadata": {},
   "source": [
    "In this part, we check the data by data visualzation. Use the function of `sns.pairplot` to see each branch's distribution status (x-asis : `distance_to_customer_KM`, y-axis : `delivery_fee`, point color : `customerHasloyalty?`"
   ]
  },
  {
   "cell_type": "code",
   "execution_count": 64,
   "metadata": {},
   "outputs": [
    {
     "name": "stderr",
     "output_type": "stream",
     "text": [
      "C:\\Users\\xxxx\\Anaconda3\\lib\\site-packages\\seaborn\\axisgrid.py:2065: UserWarning: The `size` parameter has been renamed to `height`; pleaes update your code.\n",
      "  warnings.warn(msg, UserWarning)\n",
      "C:\\Users\\xxxx\\Anaconda3\\lib\\site-packages\\seaborn\\axisgrid.py:2065: UserWarning: The `size` parameter has been renamed to `height`; pleaes update your code.\n",
      "  warnings.warn(msg, UserWarning)\n",
      "C:\\Users\\xxxx\\Anaconda3\\lib\\site-packages\\seaborn\\axisgrid.py:2065: UserWarning: The `size` parameter has been renamed to `height`; pleaes update your code.\n",
      "  warnings.warn(msg, UserWarning)\n"
     ]
    },
    {
     "data": {
      "text/plain": [
       "<Figure size 432x288 with 0 Axes>"
      ]
     },
     "metadata": {},
     "output_type": "display_data"
    },
    {
     "data": {
      "image/png": "[encoded data removed]",
      "text/plain": [
       "<Figure size 328.5x216 with 1 Axes>"
      ]
     },
     "metadata": {
      "needs_background": "light"
     },
     "output_type": "display_data"
    },
    {
     "data": {
      "image/png": "[encoded data removed]",
      "text/plain": [
       "<Figure size 328.5x216 with 1 Axes>"
      ]
     },
     "metadata": {
      "needs_background": "light"
     },
     "output_type": "display_data"
    },
    {
     "data": {
      "image/png": "[encoded data removed]",
      "text/plain": [
       "<Figure size 328.5x216 with 1 Axes>"
      ]
     },
     "metadata": {
      "needs_background": "light"
     },
     "output_type": "display_data"
    }
   ],
   "source": [
    "plt.figure()\n",
    "_ = sns.pairplot(data = dirty_csv[dirty_csv['branch_code'] == 'NS'], x_vars = 'distance_to_customer_KM', y_vars = 'delivery_fee',\n",
    "                hue = 'customerHasloyalty?', size = 3)\n",
    "_ = sns.pairplot(data = dirty_csv[dirty_csv['branch_code'] == 'TP'], x_vars = 'distance_to_customer_KM', y_vars = 'delivery_fee',\n",
    "                hue = 'customerHasloyalty?', size = 3)\n",
    "_ = sns.pairplot(data = dirty_csv[dirty_csv['branch_code'] == 'BK'], x_vars = 'distance_to_customer_KM', y_vars = 'delivery_fee',\n",
    "                hue = 'customerHasloyalty?', size = 3)\n",
    "plt.show()"
   ]
  },
  {
   "cell_type": "markdown",
   "metadata": {},
   "source": [
    "## 1.12 Save into file"
   ]
  },
  {
   "cell_type": "markdown",
   "metadata": {},
   "source": [
    "Delete does not needed column and save the fixed data into file"
   ]
  },
  {
   "cell_type": "code",
   "execution_count": 65,
   "metadata": {},
   "outputs": [],
   "source": [
    "dirty_csv = dirty_csv.drop(columns= ['order_items_has_error?','branch_name','branch_node','customer_node'])"
   ]
  },
  {
   "cell_type": "code",
   "execution_count": 66,
   "metadata": {},
   "outputs": [],
   "source": [
    "dirty_csv.to_csv('Group023_dirty_data_solution.csv')"
   ]
  },
  {
   "cell_type": "markdown",
   "metadata": {},
   "source": [
    "# 2. Missing data"
   ]
  },
  {
   "cell_type": "markdown",
   "metadata": {},
   "source": [
    "In this section, we are going to fill the missing data. In addition, We use the exploratory data analysis (EDA) method to find the error. First of all, use the function of isnull to see which column have nulls"
   ]
  },
  {
   "cell_type": "markdown",
   "metadata": {},
   "source": [
    "## 2.1 Fill branch_code"
   ]
  },
  {
   "cell_type": "code",
   "execution_count": 67,
   "metadata": {},
   "outputs": [
    {
     "data": {
      "text/plain": [
       "order_id                     0\n",
       "date                         0\n",
       "time                         0\n",
       "order_type                   0\n",
       "branch_code                100\n",
       "order_items                  0\n",
       "order_price                  0\n",
       "customer_lat                 0\n",
       "customer_lon                 0\n",
       "customerHasloyalty?          0\n",
       "distance_to_customer_KM     50\n",
       "delivery_fee                50\n",
       "dtype: int64"
      ]
     },
     "execution_count": 67,
     "metadata": {},
     "output_type": "execute_result"
    }
   ],
   "source": [
    "missing_csv.isnull().sum(axis=0)"
   ]
  },
  {
   "cell_type": "markdown",
   "metadata": {},
   "source": [
    "Here we can fill the missing value of branch code by following the relationship from the information that we figured it out above."
   ]
  },
  {
   "cell_type": "code",
   "execution_count": 68,
   "metadata": {},
   "outputs": [],
   "source": [
    "missing_csv.loc[(missing_csv['order_id'].str.contains(r'[CIZ]')), 'branch_code'] = 'NS'\n",
    "missing_csv.loc[(missing_csv['order_id'].str.contains(r'[XKA]')), 'branch_code'] = 'BK'\n",
    "missing_csv.loc[(missing_csv['order_id'].str.contains(r'[BJY]')), 'branch_code'] = 'TP'"
   ]
  },
  {
   "cell_type": "code",
   "execution_count": 69,
   "metadata": {},
   "outputs": [
    {
     "data": {
      "text/plain": [
       "order_id                    0\n",
       "date                        0\n",
       "time                        0\n",
       "order_type                  0\n",
       "branch_code                 0\n",
       "order_items                 0\n",
       "order_price                 0\n",
       "customer_lat                0\n",
       "customer_lon                0\n",
       "customerHasloyalty?         0\n",
       "distance_to_customer_KM    50\n",
       "delivery_fee               50\n",
       "dtype: int64"
      ]
     },
     "execution_count": 69,
     "metadata": {},
     "output_type": "execute_result"
    }
   ],
   "source": [
    "missing_csv.isnull().sum(axis=0)"
   ]
  },
  {
   "cell_type": "markdown",
   "metadata": {},
   "source": [
    "## 2.2 fill distance_to_customer_KM"
   ]
  },
  {
   "cell_type": "markdown",
   "metadata": {},
   "source": [
    "First of all, we have to know branch_node and customer_node if we want to caculate the shortest distance between branch and customer. So there is one way we can do is merge three csv file(`missing.csv`,`branches.csv`,`nodes.csv`). And then input two nodes in each iteration to return the distance."
   ]
  },
  {
   "cell_type": "code",
   "execution_count": 70,
   "metadata": {},
   "outputs": [],
   "source": [
    "##merge three files to get branch_node and customer_node\n",
    "missing_csv = pd.merge(missing_csv, branches, how = 'left', on = 'branch_code')\n",
    "missing_csv = pd.merge(missing_csv, nodes, how = 'left', left_on = ['customer_lat','customer_lon'], right_on = ['lat','lon'])\n",
    "missing_csv = missing_csv.drop(columns = ['lat','lon','branch_lat','branch_lon'])\n",
    "missing_csv = missing_csv.rename(columns={'node': 'customer_node'})"
   ]
  },
  {
   "cell_type": "code",
   "execution_count": 71,
   "metadata": {},
   "outputs": [],
   "source": [
    "def find_shortest_distance_new(data):\n",
    "    start_point = data['branch_node']\n",
    "    end_point = data['customer_node']\n",
    "    path = nx.dijkstra_path(G, source = start_point, target = end_point)##get a list contains the path\n",
    "    \n",
    "    distance = 0\n",
    "    \n",
    "    for i in range(1,len(path)):## to caculate the shortest distance between two nodes\n",
    "        start = path[i-1]\n",
    "        end = path[i]\n",
    "        distance += int(edges[(edges.u == start) & (edges.v == end)]['distance(m)'].tolist()[0])\n",
    " \n",
    "    return round(distance/1000,3)\n"
   ]
  },
  {
   "cell_type": "code",
   "execution_count": 72,
   "metadata": {},
   "outputs": [],
   "source": [
    "missing_csv.loc[missing_csv['distance_to_customer_KM'].isnull(),'distance_to_customer_KM'] = \\\n",
    "                                                    missing_csv[missing_csv['distance_to_customer_KM'].isnull()].apply(find_shortest_distance_new,axis = 1)"
   ]
  },
  {
   "cell_type": "markdown",
   "metadata": {},
   "source": [
    "Now we have filled all distance value, and then we have one more column(delivery_fee) need to be filled."
   ]
  },
  {
   "cell_type": "code",
   "execution_count": 73,
   "metadata": {},
   "outputs": [
    {
     "data": {
      "text/plain": [
       "order_id                    0\n",
       "date                        0\n",
       "time                        0\n",
       "order_type                  0\n",
       "branch_code                 0\n",
       "order_items                 0\n",
       "order_price                 0\n",
       "customer_lat                0\n",
       "customer_lon                0\n",
       "customerHasloyalty?         0\n",
       "distance_to_customer_KM     0\n",
       "delivery_fee               50\n",
       "branch_name                 0\n",
       "branch_node                 0\n",
       "customer_node               0\n",
       "dtype: int64"
      ]
     },
     "execution_count": 73,
     "metadata": {},
     "output_type": "execute_result"
    }
   ],
   "source": [
    "missing_csv.isnull().sum(axis=0)"
   ]
  },
  {
   "cell_type": "markdown",
   "metadata": {},
   "source": [
    "## 2.3 Fill delivery_fee"
   ]
  },
  {
   "cell_type": "markdown",
   "metadata": {},
   "source": [
    "Create a column to store a value which stand for which day in a week, '0' stand for Monday. Then use a condition to define `dayofweek`. If weekday will return 0 whereas weekend will return 1"
   ]
  },
  {
   "cell_type": "code",
   "execution_count": 74,
   "metadata": {},
   "outputs": [],
   "source": [
    "##create a column to store a value which stand for which day in a week, '0' stand for Monday\n",
    "missing_csv['dayofweek'] = pd.to_datetime(missing_csv['date']).dt.dayofweek"
   ]
  },
  {
   "cell_type": "code",
   "execution_count": 75,
   "metadata": {},
   "outputs": [],
   "source": [
    "## if weekday, return 0. if weekend, return 1\n",
    "def weekday(data):\n",
    "    dayofweek = data['dayofweek']\n",
    "    if dayofweek > 4:\n",
    "        return 1\n",
    "    if dayofweek <= 4:\n",
    "        return 0"
   ]
  },
  {
   "cell_type": "markdown",
   "metadata": {},
   "source": [
    "Apply fixed data"
   ]
  },
  {
   "cell_type": "code",
   "execution_count": 76,
   "metadata": {},
   "outputs": [],
   "source": [
    "missing_csv['weekday_or_weekend'] = missing_csv.apply(weekday, axis = 1)"
   ]
  },
  {
   "cell_type": "markdown",
   "metadata": {},
   "source": [
    "Use conditions to define `order_type`. If the `timeofday` is Breakfast will return 0. If afternoon, return 1. If evening, return 2"
   ]
  },
  {
   "cell_type": "code",
   "execution_count": 77,
   "metadata": {},
   "outputs": [],
   "source": [
    "## if morning, return 0; if afternoon, return 1; if evening, return 2\n",
    "def time_of_day(data):\n",
    "    timeofday = data['order_type']\n",
    "    if timeofday == 'Breakfast':\n",
    "        return 0\n",
    "    if timeofday == 'Lunch':\n",
    "        return 1\n",
    "    if timeofday == 'Dinner':\n",
    "        return 2"
   ]
  },
  {
   "cell_type": "markdown",
   "metadata": {},
   "source": [
    "Apply fixed data"
   ]
  },
  {
   "cell_type": "code",
   "execution_count": 78,
   "metadata": {},
   "outputs": [],
   "source": [
    "missing_csv['time_day'] = missing_csv.apply(time_of_day, axis = 1)"
   ]
  },
  {
   "cell_type": "markdown",
   "metadata": {},
   "source": [
    "In this part, we are going to caculate the delivery fee in each data. Then, we create a dataframe without NA to train the linear model for delivery fee. Because, if the dataframe have nulls, the result will error. "
   ]
  },
  {
   "cell_type": "code",
   "execution_count": 79,
   "metadata": {},
   "outputs": [],
   "source": [
    "##create a dataframe without NA to train the linear model for delivery fee\n",
    "missing_dropna = missing_csv.dropna(axis=0, how='any', inplace=False)"
   ]
  },
  {
   "cell_type": "markdown",
   "metadata": {},
   "source": [
    "Then, delivery fee multiply 2 if this customer has loyalty"
   ]
  },
  {
   "cell_type": "code",
   "execution_count": 80,
   "metadata": {},
   "outputs": [
    {
     "name": "stderr",
     "output_type": "stream",
     "text": [
      "C:\\Users\\xxxx\\Anaconda3\\lib\\site-packages\\pandas\\core\\indexing.py:543: SettingWithCopyWarning: \n",
      "A value is trying to be set on a copy of a slice from a DataFrame.\n",
      "Try using .loc[row_indexer,col_indexer] = value instead\n",
      "\n",
      "See the caveats in the documentation: http://pandas.pydata.org/pandas-docs/stable/indexing.html#indexing-view-versus-copy\n",
      "  self.obj[item] = s\n"
     ]
    }
   ],
   "source": [
    "## delivery fee multiply 2 if this customer has loyalty\n",
    "missing_dropna.loc[missing_dropna['customerHasloyalty?'] ==1, 'delivery_fee'] = \\\n",
    "        missing_dropna.loc[missing_dropna['customerHasloyalty?']==1, 'delivery_fee'] * 2"
   ]
  },
  {
   "cell_type": "markdown",
   "metadata": {},
   "source": [
    "## Linear model for the delivery fee of NS branch and fill missing value"
   ]
  },
  {
   "cell_type": "markdown",
   "metadata": {},
   "source": [
    "Use liner model to caculate the delivery fee of NS branch"
   ]
  },
  {
   "cell_type": "code",
   "execution_count": 81,
   "metadata": {},
   "outputs": [],
   "source": [
    "##get all the row which is belong to NS\n",
    "missing_dropna_ns = missing_dropna[missing_dropna['branch_code'] == 'NS']"
   ]
  },
  {
   "cell_type": "markdown",
   "metadata": {},
   "source": [
    "Use three columns(dayofweek, time_day, distance) to train linear model. Then use the function of map to store the data. "
   ]
  },
  {
   "cell_type": "code",
   "execution_count": 82,
   "metadata": {},
   "outputs": [
    {
     "data": {
      "text/plain": [
       "[(122, 3), (31, 3), (122,), (31,)]"
      ]
     },
     "execution_count": 82,
     "metadata": {},
     "output_type": "execute_result"
    }
   ],
   "source": [
    "##use three columns(dayofweek, time_day, order_price) to train linear model\n",
    "x_train, x_test, y_train, y_test = train_test_split(missing_dropna_ns.iloc[:,[16,17,10]],\\\n",
    "                                                    missing_dropna_ns['delivery_fee'], test_size = 0.2, random_state = 0)\n",
    "list(map(pd.np.shape,[x_train, x_test, y_train, y_test]))"
   ]
  },
  {
   "cell_type": "markdown",
   "metadata": {},
   "source": [
    "Use the `LinearRegression()` method to get the most accurate linear fit."
   ]
  },
  {
   "cell_type": "code",
   "execution_count": 83,
   "metadata": {},
   "outputs": [
    {
     "name": "stdout",
     "output_type": "stream",
     "text": [
      "R-squared for this model is :  0.9800099578140492\n"
     ]
    }
   ],
   "source": [
    "## adjust test_size to get the most accurate linear fit.\n",
    "lm_model_ns = LinearRegression()\n",
    "lm_model_ns.fit(x_train, y_train)\n",
    "print('R-squared for this model is : ',lm_model_ns.score(x_test, y_test))"
   ]
  },
  {
   "cell_type": "markdown",
   "metadata": {},
   "source": [
    "If the `delivery_fee` is null and the `branch_code` is NS, get the predict value by using linear model. In addition, if customer has loyalty, deliver fee will multiply 0.5(has 50% discount)"
   ]
  },
  {
   "cell_type": "code",
   "execution_count": 84,
   "metadata": {},
   "outputs": [
    {
     "data": {
      "text/html": [
       "<div>\n",
       "<style scoped>\n",
       "    .dataframe tbody tr th:only-of-type {\n",
       "        vertical-align: middle;\n",
       "    }\n",
       "\n",
       "    .dataframe tbody tr th {\n",
       "        vertical-align: top;\n",
       "    }\n",
       "\n",
       "    .dataframe thead th {\n",
       "        text-align: right;\n",
       "    }\n",
       "</style>\n",
       "<table border=\"1\" class=\"dataframe\">\n",
       "  <thead>\n",
       "    <tr style=\"text-align: right;\">\n",
       "      <th></th>\n",
       "      <th>customerHasloyalty?</th>\n",
       "      <th>weekday_or_weekend</th>\n",
       "      <th>time_day</th>\n",
       "      <th>distance_to_customer_KM</th>\n",
       "      <th>p_delivery_fee</th>\n",
       "    </tr>\n",
       "  </thead>\n",
       "  <tbody>\n",
       "    <tr>\n",
       "      <th>42</th>\n",
       "      <td>0</td>\n",
       "      <td>0</td>\n",
       "      <td>2</td>\n",
       "      <td>9.171</td>\n",
       "      <td>15.130082</td>\n",
       "    </tr>\n",
       "    <tr>\n",
       "      <th>50</th>\n",
       "      <td>0</td>\n",
       "      <td>0</td>\n",
       "      <td>1</td>\n",
       "      <td>6.832</td>\n",
       "      <td>12.299287</td>\n",
       "    </tr>\n",
       "    <tr>\n",
       "      <th>65</th>\n",
       "      <td>0</td>\n",
       "      <td>1</td>\n",
       "      <td>0</td>\n",
       "      <td>8.237</td>\n",
       "      <td>15.278559</td>\n",
       "    </tr>\n",
       "    <tr>\n",
       "      <th>123</th>\n",
       "      <td>1</td>\n",
       "      <td>1</td>\n",
       "      <td>0</td>\n",
       "      <td>10.029</td>\n",
       "      <td>8.547567</td>\n",
       "    </tr>\n",
       "    <tr>\n",
       "      <th>131</th>\n",
       "      <td>0</td>\n",
       "      <td>0</td>\n",
       "      <td>2</td>\n",
       "      <td>6.796</td>\n",
       "      <td>12.722512</td>\n",
       "    </tr>\n",
       "  </tbody>\n",
       "</table>\n",
       "</div>"
      ],
      "text/plain": [
       "     customerHasloyalty?  weekday_or_weekend  time_day  \\\n",
       "42                     0                   0         2   \n",
       "50                     0                   0         1   \n",
       "65                     0                   1         0   \n",
       "123                    1                   1         0   \n",
       "131                    0                   0         2   \n",
       "\n",
       "     distance_to_customer_KM  p_delivery_fee  \n",
       "42                     9.171       15.130082  \n",
       "50                     6.832       12.299287  \n",
       "65                     8.237       15.278559  \n",
       "123                   10.029        8.547567  \n",
       "131                    6.796       12.722512  "
      ]
     },
     "execution_count": 84,
     "metadata": {},
     "output_type": "execute_result"
    }
   ],
   "source": [
    "miss_na_ns = missing_csv[(missing_csv['delivery_fee'].isnull()) & (missing_csv['branch_code'] =='NS')].iloc[:,[9,16,17,10]]\n",
    "##get the predict value by using linear model\n",
    "miss_na_ns['p_delivery_fee'] = lm_model_ns.predict(miss_na_ns.iloc[:,1:])\n",
    "## if customer has loyalty, deliver fee will multiply 0.5(has 50% discount)\n",
    "miss_na_ns.loc[miss_na_ns['customerHasloyalty?'] == 1, 'p_delivery_fee'] = \\\n",
    "                                        miss_na_ns.loc[miss_na_ns['customerHasloyalty?'] ==1, 'p_delivery_fee']*0.5\n",
    "\n",
    "miss_na_ns.head()"
   ]
  },
  {
   "cell_type": "markdown",
   "metadata": {},
   "source": [
    "Finally, fill the data into null cells. Then, we can use the function of isnull to check again the amount of null. We can see that `delivery_fee` reduce by 19."
   ]
  },
  {
   "cell_type": "code",
   "execution_count": 85,
   "metadata": {},
   "outputs": [],
   "source": [
    "## fill na\n",
    "missing_csv.loc[(missing_csv['delivery_fee'].isnull()) & (missing_csv['branch_code'] == 'NS'), 'delivery_fee'] = \\\n",
    "                                                                                                    miss_na_ns['p_delivery_fee']"
   ]
  },
  {
   "cell_type": "code",
   "execution_count": 86,
   "metadata": {},
   "outputs": [
    {
     "data": {
      "text/plain": [
       "order_id                    0\n",
       "date                        0\n",
       "time                        0\n",
       "order_type                  0\n",
       "branch_code                 0\n",
       "order_items                 0\n",
       "order_price                 0\n",
       "customer_lat                0\n",
       "customer_lon                0\n",
       "customerHasloyalty?         0\n",
       "distance_to_customer_KM     0\n",
       "delivery_fee               31\n",
       "branch_name                 0\n",
       "branch_node                 0\n",
       "customer_node               0\n",
       "dayofweek                   0\n",
       "weekday_or_weekend          0\n",
       "time_day                    0\n",
       "dtype: int64"
      ]
     },
     "execution_count": 86,
     "metadata": {},
     "output_type": "execute_result"
    }
   ],
   "source": [
    "missing_csv.isnull().sum(axis=0)"
   ]
  },
  {
   "cell_type": "markdown",
   "metadata": {},
   "source": [
    "## Linear model for the delivery fee of TP branch and fill missing value"
   ]
  },
  {
   "cell_type": "markdown",
   "metadata": {},
   "source": [
    "Use liner model to caculate the delivery fee of NS branch"
   ]
  },
  {
   "cell_type": "code",
   "execution_count": 87,
   "metadata": {},
   "outputs": [],
   "source": [
    "missing_dropna_tp = missing_dropna[missing_dropna['branch_code'] == 'TP']"
   ]
  },
  {
   "cell_type": "markdown",
   "metadata": {},
   "source": [
    "Use three columns(dayofweek, time_day, order_price) to train linear model. Then use the function of map to store the data. "
   ]
  },
  {
   "cell_type": "code",
   "execution_count": 88,
   "metadata": {},
   "outputs": [
    {
     "data": {
      "text/plain": [
       "[(141, 3), (6, 3), (141,), (6,)]"
      ]
     },
     "execution_count": 88,
     "metadata": {},
     "output_type": "execute_result"
    }
   ],
   "source": [
    "x_train, x_test, y_train, y_test = train_test_split(missing_dropna_tp.iloc[:,[16,17,10]],\\\n",
    "                                                    missing_dropna_tp['delivery_fee'], test_size = 0.04, random_state = 0)\n",
    "list(map(pd.np.shape,[x_train, x_test, y_train, y_test]))"
   ]
  },
  {
   "cell_type": "markdown",
   "metadata": {},
   "source": [
    "Use the LinearRegression() method to get the most accurate linear fit."
   ]
  },
  {
   "cell_type": "code",
   "execution_count": 89,
   "metadata": {},
   "outputs": [
    {
     "name": "stdout",
     "output_type": "stream",
     "text": [
      "R-squared for this model is :  0.9573517800034693\n"
     ]
    }
   ],
   "source": [
    "lm_model_tp = LinearRegression()\n",
    "lm_model_tp.fit(x_train, y_train)\n",
    "print('R-squared for this model is : ',lm_model_tp.score(x_test, y_test))"
   ]
  },
  {
   "cell_type": "markdown",
   "metadata": {},
   "source": [
    "If the delivery_fee is null and the branch_code is TP, get the predict value by using linear model. In addition, if customer has loyalty, deliver fee will multiply 0.5(has 50% discount)"
   ]
  },
  {
   "cell_type": "code",
   "execution_count": 90,
   "metadata": {},
   "outputs": [
    {
     "data": {
      "text/html": [
       "<div>\n",
       "<style scoped>\n",
       "    .dataframe tbody tr th:only-of-type {\n",
       "        vertical-align: middle;\n",
       "    }\n",
       "\n",
       "    .dataframe tbody tr th {\n",
       "        vertical-align: top;\n",
       "    }\n",
       "\n",
       "    .dataframe thead th {\n",
       "        text-align: right;\n",
       "    }\n",
       "</style>\n",
       "<table border=\"1\" class=\"dataframe\">\n",
       "  <thead>\n",
       "    <tr style=\"text-align: right;\">\n",
       "      <th></th>\n",
       "      <th>customerHasloyalty?</th>\n",
       "      <th>weekday_or_weekend</th>\n",
       "      <th>time_day</th>\n",
       "      <th>distance_to_customer_KM</th>\n",
       "      <th>p_delivery_fee</th>\n",
       "    </tr>\n",
       "  </thead>\n",
       "  <tbody>\n",
       "    <tr>\n",
       "      <th>30</th>\n",
       "      <td>0</td>\n",
       "      <td>0</td>\n",
       "      <td>0</td>\n",
       "      <td>12.411</td>\n",
       "      <td>14.473984</td>\n",
       "    </tr>\n",
       "    <tr>\n",
       "      <th>198</th>\n",
       "      <td>0</td>\n",
       "      <td>0</td>\n",
       "      <td>2</td>\n",
       "      <td>9.587</td>\n",
       "      <td>13.630164</td>\n",
       "    </tr>\n",
       "    <tr>\n",
       "      <th>353</th>\n",
       "      <td>0</td>\n",
       "      <td>0</td>\n",
       "      <td>0</td>\n",
       "      <td>8.525</td>\n",
       "      <td>11.193467</td>\n",
       "    </tr>\n",
       "    <tr>\n",
       "      <th>360</th>\n",
       "      <td>0</td>\n",
       "      <td>0</td>\n",
       "      <td>0</td>\n",
       "      <td>7.958</td>\n",
       "      <td>10.714811</td>\n",
       "    </tr>\n",
       "    <tr>\n",
       "      <th>368</th>\n",
       "      <td>0</td>\n",
       "      <td>0</td>\n",
       "      <td>0</td>\n",
       "      <td>8.062</td>\n",
       "      <td>10.802607</td>\n",
       "    </tr>\n",
       "  </tbody>\n",
       "</table>\n",
       "</div>"
      ],
      "text/plain": [
       "     customerHasloyalty?  weekday_or_weekend  time_day  \\\n",
       "30                     0                   0         0   \n",
       "198                    0                   0         2   \n",
       "353                    0                   0         0   \n",
       "360                    0                   0         0   \n",
       "368                    0                   0         0   \n",
       "\n",
       "     distance_to_customer_KM  p_delivery_fee  \n",
       "30                    12.411       14.473984  \n",
       "198                    9.587       13.630164  \n",
       "353                    8.525       11.193467  \n",
       "360                    7.958       10.714811  \n",
       "368                    8.062       10.802607  "
      ]
     },
     "execution_count": 90,
     "metadata": {},
     "output_type": "execute_result"
    }
   ],
   "source": [
    "miss_na_tp = missing_csv[(missing_csv['delivery_fee'].isnull()) & (missing_csv['branch_code'] =='TP')].iloc[:,[9,16,17,10]]\n",
    "\n",
    "miss_na_tp['p_delivery_fee'] = lm_model_tp.predict(miss_na_tp.iloc[:,1:])\n",
    "\n",
    "miss_na_tp.loc[miss_na_tp['customerHasloyalty?'] == 1, 'p_delivery_fee'] = \\\n",
    "                                        miss_na_tp.loc[miss_na_tp['customerHasloyalty?'] ==1, 'p_delivery_fee']*0.5\n",
    "\n",
    "miss_na_tp.head()"
   ]
  },
  {
   "cell_type": "markdown",
   "metadata": {},
   "source": [
    "Finally, fill the data into null cells. Then, we can use the function of isnull to check again the amount of null. We can see that `delivery_fee` reduce by 11."
   ]
  },
  {
   "cell_type": "code",
   "execution_count": 91,
   "metadata": {},
   "outputs": [],
   "source": [
    "missing_csv.loc[(missing_csv['delivery_fee'].isnull()) & (missing_csv['branch_code'] == 'TP'), 'delivery_fee'] = \\\n",
    "                                                                                                    miss_na_tp['p_delivery_fee']"
   ]
  },
  {
   "cell_type": "code",
   "execution_count": 92,
   "metadata": {},
   "outputs": [
    {
     "data": {
      "text/plain": [
       "order_id                    0\n",
       "date                        0\n",
       "time                        0\n",
       "order_type                  0\n",
       "branch_code                 0\n",
       "order_items                 0\n",
       "order_price                 0\n",
       "customer_lat                0\n",
       "customer_lon                0\n",
       "customerHasloyalty?         0\n",
       "distance_to_customer_KM     0\n",
       "delivery_fee               20\n",
       "branch_name                 0\n",
       "branch_node                 0\n",
       "customer_node               0\n",
       "dayofweek                   0\n",
       "weekday_or_weekend          0\n",
       "time_day                    0\n",
       "dtype: int64"
      ]
     },
     "execution_count": 92,
     "metadata": {},
     "output_type": "execute_result"
    }
   ],
   "source": [
    "missing_csv.isnull().sum(axis=0)"
   ]
  },
  {
   "cell_type": "markdown",
   "metadata": {},
   "source": [
    "## Linear model for the delivery fee of BK branch and fill missing value"
   ]
  },
  {
   "cell_type": "markdown",
   "metadata": {},
   "source": [
    "Use liner model to caculate the delivery fee of NS branch"
   ]
  },
  {
   "cell_type": "code",
   "execution_count": 93,
   "metadata": {},
   "outputs": [],
   "source": [
    "missing_dropna_bk = missing_dropna[missing_dropna['branch_code'] == 'BK']"
   ]
  },
  {
   "cell_type": "markdown",
   "metadata": {},
   "source": [
    "Use three columns(dayofweek, time_day, order_price) to train linear model. Then use the function of map to store the data. "
   ]
  },
  {
   "cell_type": "code",
   "execution_count": 94,
   "metadata": {},
   "outputs": [
    {
     "data": {
      "text/plain": [
       "[(145, 3), (7, 3), (145,), (7,)]"
      ]
     },
     "execution_count": 94,
     "metadata": {},
     "output_type": "execute_result"
    }
   ],
   "source": [
    "x_train, x_test, y_train, y_test = train_test_split(missing_dropna_bk.iloc[:,[16,17,10]],\\\n",
    "                                                    missing_dropna_bk['delivery_fee'], test_size = 0.04, random_state = 0)\n",
    "list(map(pd.np.shape,[x_train, x_test, y_train, y_test]))"
   ]
  },
  {
   "cell_type": "markdown",
   "metadata": {},
   "source": [
    "Use the LinearRegression() method to get the most accurate linear fit."
   ]
  },
  {
   "cell_type": "code",
   "execution_count": 95,
   "metadata": {},
   "outputs": [
    {
     "name": "stdout",
     "output_type": "stream",
     "text": [
      "R-squared for this model is :  0.992034042101958\n"
     ]
    }
   ],
   "source": [
    "lm_model_bk = LinearRegression()\n",
    "lm_model_bk.fit(x_train, y_train)\n",
    "print('R-squared for this model is : ',lm_model_bk.score(x_test, y_test))"
   ]
  },
  {
   "cell_type": "markdown",
   "metadata": {},
   "source": [
    "If the delivery_fee is null and the branch_code is BK, get the predict value by using linear model. In addition, if customer has loyalty, deliver fee will multiply 0.5(has 50% discount)"
   ]
  },
  {
   "cell_type": "code",
   "execution_count": 96,
   "metadata": {},
   "outputs": [
    {
     "data": {
      "text/html": [
       "<div>\n",
       "<style scoped>\n",
       "    .dataframe tbody tr th:only-of-type {\n",
       "        vertical-align: middle;\n",
       "    }\n",
       "\n",
       "    .dataframe tbody tr th {\n",
       "        vertical-align: top;\n",
       "    }\n",
       "\n",
       "    .dataframe thead th {\n",
       "        text-align: right;\n",
       "    }\n",
       "</style>\n",
       "<table border=\"1\" class=\"dataframe\">\n",
       "  <thead>\n",
       "    <tr style=\"text-align: right;\">\n",
       "      <th></th>\n",
       "      <th>customerHasloyalty?</th>\n",
       "      <th>weekday_or_weekend</th>\n",
       "      <th>time_day</th>\n",
       "      <th>distance_to_customer_KM</th>\n",
       "      <th>p_delivery_fee</th>\n",
       "    </tr>\n",
       "  </thead>\n",
       "  <tbody>\n",
       "    <tr>\n",
       "      <th>18</th>\n",
       "      <td>0</td>\n",
       "      <td>0</td>\n",
       "      <td>0</td>\n",
       "      <td>7.914</td>\n",
       "      <td>12.750067</td>\n",
       "    </tr>\n",
       "    <tr>\n",
       "      <th>29</th>\n",
       "      <td>0</td>\n",
       "      <td>0</td>\n",
       "      <td>0</td>\n",
       "      <td>6.967</td>\n",
       "      <td>11.784289</td>\n",
       "    </tr>\n",
       "    <tr>\n",
       "      <th>35</th>\n",
       "      <td>0</td>\n",
       "      <td>0</td>\n",
       "      <td>1</td>\n",
       "      <td>8.816</td>\n",
       "      <td>14.613861</td>\n",
       "    </tr>\n",
       "    <tr>\n",
       "      <th>48</th>\n",
       "      <td>0</td>\n",
       "      <td>0</td>\n",
       "      <td>1</td>\n",
       "      <td>7.449</td>\n",
       "      <td>13.219754</td>\n",
       "    </tr>\n",
       "    <tr>\n",
       "      <th>51</th>\n",
       "      <td>0</td>\n",
       "      <td>0</td>\n",
       "      <td>1</td>\n",
       "      <td>6.651</td>\n",
       "      <td>12.405929</td>\n",
       "    </tr>\n",
       "  </tbody>\n",
       "</table>\n",
       "</div>"
      ],
      "text/plain": [
       "    customerHasloyalty?  weekday_or_weekend  time_day  \\\n",
       "18                    0                   0         0   \n",
       "29                    0                   0         0   \n",
       "35                    0                   0         1   \n",
       "48                    0                   0         1   \n",
       "51                    0                   0         1   \n",
       "\n",
       "    distance_to_customer_KM  p_delivery_fee  \n",
       "18                    7.914       12.750067  \n",
       "29                    6.967       11.784289  \n",
       "35                    8.816       14.613861  \n",
       "48                    7.449       13.219754  \n",
       "51                    6.651       12.405929  "
      ]
     },
     "execution_count": 96,
     "metadata": {},
     "output_type": "execute_result"
    }
   ],
   "source": [
    "miss_na_bk = missing_csv[(missing_csv['delivery_fee'].isnull()) & (missing_csv['branch_code'] =='BK')].iloc[:,[9,16,17,10]]\n",
    "\n",
    "miss_na_bk['p_delivery_fee'] = lm_model_bk.predict(miss_na_bk.iloc[:,1:])\n",
    "\n",
    "miss_na_bk.loc[miss_na_bk['customerHasloyalty?'] == 1, 'p_delivery_fee'] = \\\n",
    "                                        miss_na_bk.loc[miss_na_bk['customerHasloyalty?'] ==1, 'p_delivery_fee']*0.5\n",
    "\n",
    "miss_na_bk.head()"
   ]
  },
  {
   "cell_type": "markdown",
   "metadata": {},
   "source": [
    "Finally, fill the data into null cells. Then, we can use the function of isnull to check again the amount of null. We can see that `delivery_fee` reduce by 20."
   ]
  },
  {
   "cell_type": "code",
   "execution_count": 97,
   "metadata": {},
   "outputs": [],
   "source": [
    "missing_csv.loc[(missing_csv['delivery_fee'].isnull()) & (missing_csv['branch_code'] == 'BK'), 'delivery_fee'] = \\\n",
    "                                                                                                    miss_na_bk['p_delivery_fee']"
   ]
  },
  {
   "cell_type": "code",
   "execution_count": 98,
   "metadata": {},
   "outputs": [],
   "source": [
    "missing_csv = missing_csv.drop(columns= ['dayofweek','weekday_or_weekend','time_day','branch_name','branch_node','customer_node'])"
   ]
  },
  {
   "cell_type": "code",
   "execution_count": 99,
   "metadata": {},
   "outputs": [
    {
     "data": {
      "text/plain": [
       "order_id                   0\n",
       "date                       0\n",
       "time                       0\n",
       "order_type                 0\n",
       "branch_code                0\n",
       "order_items                0\n",
       "order_price                0\n",
       "customer_lat               0\n",
       "customer_lon               0\n",
       "customerHasloyalty?        0\n",
       "distance_to_customer_KM    0\n",
       "delivery_fee               0\n",
       "dtype: int64"
      ]
     },
     "execution_count": 99,
     "metadata": {},
     "output_type": "execute_result"
    }
   ],
   "source": [
    "missing_csv.isnull().sum(axis=0)"
   ]
  },
  {
   "cell_type": "markdown",
   "metadata": {},
   "source": [
    "## 2.4 Save into csv file"
   ]
  },
  {
   "cell_type": "code",
   "execution_count": 100,
   "metadata": {},
   "outputs": [],
   "source": [
    "missing_csv.to_csv('Group023_missing_data_solution.csv')"
   ]
  },
  {
   "cell_type": "markdown",
   "metadata": {},
   "source": [
    "# 3. Outlier data"
   ]
  },
  {
   "cell_type": "markdown",
   "metadata": {},
   "source": [
    "we use the function of boxplot and describe to check data"
   ]
  },
  {
   "cell_type": "code",
   "execution_count": 101,
   "metadata": {},
   "outputs": [
    {
     "data": {
      "image/png": "[encoded data removed]",
      "text/plain": [
       "<Figure size 432x288 with 1 Axes>"
      ]
     },
     "metadata": {
      "needs_background": "light"
     },
     "output_type": "display_data"
    }
   ],
   "source": [
    "bp = outlier_csv.boxplot(column='delivery_fee')"
   ]
  },
  {
   "cell_type": "code",
   "execution_count": 102,
   "metadata": {},
   "outputs": [
    {
     "data": {
      "text/plain": [
       "count    500.000000\n",
       "mean      13.928537\n",
       "std        3.490627\n",
       "min        3.568045\n",
       "25%       12.318951\n",
       "50%       14.054261\n",
       "75%       15.648504\n",
       "max       29.945278\n",
       "Name: delivery_fee, dtype: float64"
      ]
     },
     "execution_count": 102,
     "metadata": {},
     "output_type": "execute_result"
    }
   ],
   "source": [
    "outlier_csv['delivery_fee'].describe()"
   ]
  },
  {
   "cell_type": "markdown",
   "metadata": {},
   "source": [
    "## 3.1 ESD method to check outliers\n",
    "\n",
    "In this part, we are going to use ESD method to check outliers. According to ESD method, we use the function\n",
    "( if |x-mean(x)| > 3*sd(x), x is outlier ) to solve this problem. Use the function of `np.mean` and `np.std` to transfer the `delivery_fee` respectively, then bring the data into the formula to calculate. Finally, apply the data"
   ]
  },
  {
   "cell_type": "code",
   "execution_count": 103,
   "metadata": {},
   "outputs": [],
   "source": [
    "mean_fee = np.mean(outlier_csv['delivery_fee'])\n",
    "sd_fee = np.std(outlier_csv['delivery_fee'])\n",
    "def ESD_outliers(data):\n",
    "    z = abs((data['delivery_fee']-mean_fee)/sd_fee) ##|x-mean(x)| / sd(x)\n",
    "    return z > 3"
   ]
  },
  {
   "cell_type": "code",
   "execution_count": 104,
   "metadata": {},
   "outputs": [
    {
     "data": {
      "text/html": [
       "<div>\n",
       "<style scoped>\n",
       "    .dataframe tbody tr th:only-of-type {\n",
       "        vertical-align: middle;\n",
       "    }\n",
       "\n",
       "    .dataframe tbody tr th {\n",
       "        vertical-align: top;\n",
       "    }\n",
       "\n",
       "    .dataframe thead th {\n",
       "        text-align: right;\n",
       "    }\n",
       "</style>\n",
       "<table border=\"1\" class=\"dataframe\">\n",
       "  <thead>\n",
       "    <tr style=\"text-align: right;\">\n",
       "      <th></th>\n",
       "      <th>order_id</th>\n",
       "      <th>date</th>\n",
       "      <th>time</th>\n",
       "      <th>order_type</th>\n",
       "      <th>branch_code</th>\n",
       "      <th>order_items</th>\n",
       "      <th>order_price</th>\n",
       "      <th>customer_lat</th>\n",
       "      <th>customer_lon</th>\n",
       "      <th>customerHasloyalty?</th>\n",
       "      <th>distance_to_customer_KM</th>\n",
       "      <th>delivery_fee</th>\n",
       "    </tr>\n",
       "  </thead>\n",
       "  <tbody>\n",
       "    <tr>\n",
       "      <th>204</th>\n",
       "      <td>ORDK06351</td>\n",
       "      <td>2018-12-30</td>\n",
       "      <td>20:00:00</td>\n",
       "      <td>Dinner</td>\n",
       "      <td>BK</td>\n",
       "      <td>[('Salmon', 2), ('Pasta', 3), ('Shrimp', 3), (...</td>\n",
       "      <td>431.5</td>\n",
       "      <td>-37.815485</td>\n",
       "      <td>144.937798</td>\n",
       "      <td>0</td>\n",
       "      <td>9.984</td>\n",
       "      <td>29.945278</td>\n",
       "    </tr>\n",
       "    <tr>\n",
       "      <th>353</th>\n",
       "      <td>ORDX01507</td>\n",
       "      <td>2018-10-06</td>\n",
       "      <td>17:07:36</td>\n",
       "      <td>Dinner</td>\n",
       "      <td>BK</td>\n",
       "      <td>[('Fish&amp;Chips', 2), ('Salmon', 10)]</td>\n",
       "      <td>480.0</td>\n",
       "      <td>-37.817461</td>\n",
       "      <td>144.967420</td>\n",
       "      <td>0</td>\n",
       "      <td>7.455</td>\n",
       "      <td>25.577977</td>\n",
       "    </tr>\n",
       "    <tr>\n",
       "      <th>378</th>\n",
       "      <td>ORDX09132</td>\n",
       "      <td>2018-06-17</td>\n",
       "      <td>13:24:30</td>\n",
       "      <td>Lunch</td>\n",
       "      <td>BK</td>\n",
       "      <td>[('Fries', 8), ('Chicken', 1)]</td>\n",
       "      <td>128.0</td>\n",
       "      <td>-37.802166</td>\n",
       "      <td>144.964518</td>\n",
       "      <td>0</td>\n",
       "      <td>7.721</td>\n",
       "      <td>25.023267</td>\n",
       "    </tr>\n",
       "  </tbody>\n",
       "</table>\n",
       "</div>"
      ],
      "text/plain": [
       "      order_id        date      time order_type branch_code  \\\n",
       "204  ORDK06351  2018-12-30  20:00:00     Dinner          BK   \n",
       "353  ORDX01507  2018-10-06  17:07:36     Dinner          BK   \n",
       "378  ORDX09132  2018-06-17  13:24:30      Lunch          BK   \n",
       "\n",
       "                                           order_items  order_price  \\\n",
       "204  [('Salmon', 2), ('Pasta', 3), ('Shrimp', 3), (...        431.5   \n",
       "353                [('Fish&Chips', 2), ('Salmon', 10)]        480.0   \n",
       "378                     [('Fries', 8), ('Chicken', 1)]        128.0   \n",
       "\n",
       "     customer_lat  customer_lon  customerHasloyalty?  distance_to_customer_KM  \\\n",
       "204    -37.815485    144.937798                    0                    9.984   \n",
       "353    -37.817461    144.967420                    0                    7.455   \n",
       "378    -37.802166    144.964518                    0                    7.721   \n",
       "\n",
       "     delivery_fee  \n",
       "204     29.945278  \n",
       "353     25.577977  \n",
       "378     25.023267  "
      ]
     },
     "execution_count": 104,
     "metadata": {},
     "output_type": "execute_result"
    }
   ],
   "source": [
    "outlier_csv[outlier_csv.apply(ESD_outliers,axis = 1)]"
   ]
  },
  {
   "cell_type": "markdown",
   "metadata": {},
   "source": [
    "## 3.2 MAD( median absolute deviation) method to check outliers\n",
    "\n",
    "In this part, we are going to use MAD ( median absolute deviation) method to check outliers. According to MAD method, we use the function ( x is an outlier if |x-median(x)| > 3*sd(x) ) to solve this problem. Use the function of np.median to transfer the delivery_fee, then bring the data into the formula to calculate. Finally, apply the data"
   ]
  },
  {
   "cell_type": "code",
   "execution_count": 105,
   "metadata": {},
   "outputs": [],
   "source": [
    "median_fee = np.median(outlier_csv['delivery_fee'])\n",
    "def MAD_outliers(data):\n",
    "    z = abs((data['delivery_fee']-median_fee)/sd_fee) ##|x-median(x)| / sd(x)\n",
    "    return z > 3"
   ]
  },
  {
   "cell_type": "code",
   "execution_count": 106,
   "metadata": {},
   "outputs": [
    {
     "data": {
      "text/html": [
       "<div>\n",
       "<style scoped>\n",
       "    .dataframe tbody tr th:only-of-type {\n",
       "        vertical-align: middle;\n",
       "    }\n",
       "\n",
       "    .dataframe tbody tr th {\n",
       "        vertical-align: top;\n",
       "    }\n",
       "\n",
       "    .dataframe thead th {\n",
       "        text-align: right;\n",
       "    }\n",
       "</style>\n",
       "<table border=\"1\" class=\"dataframe\">\n",
       "  <thead>\n",
       "    <tr style=\"text-align: right;\">\n",
       "      <th></th>\n",
       "      <th>order_id</th>\n",
       "      <th>date</th>\n",
       "      <th>time</th>\n",
       "      <th>order_type</th>\n",
       "      <th>branch_code</th>\n",
       "      <th>order_items</th>\n",
       "      <th>order_price</th>\n",
       "      <th>customer_lat</th>\n",
       "      <th>customer_lon</th>\n",
       "      <th>customerHasloyalty?</th>\n",
       "      <th>distance_to_customer_KM</th>\n",
       "      <th>delivery_fee</th>\n",
       "    </tr>\n",
       "  </thead>\n",
       "  <tbody>\n",
       "    <tr>\n",
       "      <th>57</th>\n",
       "      <td>ORDB07956</td>\n",
       "      <td>2018-01-08</td>\n",
       "      <td>08:10:08</td>\n",
       "      <td>Breakfast</td>\n",
       "      <td>TP</td>\n",
       "      <td>[('Coffee', 2), ('Cereal', 4), ('Eggs', 3)]</td>\n",
       "      <td>165.0</td>\n",
       "      <td>-37.816161</td>\n",
       "      <td>144.939029</td>\n",
       "      <td>1</td>\n",
       "      <td>10.284</td>\n",
       "      <td>3.568045</td>\n",
       "    </tr>\n",
       "    <tr>\n",
       "      <th>204</th>\n",
       "      <td>ORDK06351</td>\n",
       "      <td>2018-12-30</td>\n",
       "      <td>20:00:00</td>\n",
       "      <td>Dinner</td>\n",
       "      <td>BK</td>\n",
       "      <td>[('Salmon', 2), ('Pasta', 3), ('Shrimp', 3), (...</td>\n",
       "      <td>431.5</td>\n",
       "      <td>-37.815485</td>\n",
       "      <td>144.937798</td>\n",
       "      <td>0</td>\n",
       "      <td>9.984</td>\n",
       "      <td>29.945278</td>\n",
       "    </tr>\n",
       "    <tr>\n",
       "      <th>353</th>\n",
       "      <td>ORDX01507</td>\n",
       "      <td>2018-10-06</td>\n",
       "      <td>17:07:36</td>\n",
       "      <td>Dinner</td>\n",
       "      <td>BK</td>\n",
       "      <td>[('Fish&amp;Chips', 2), ('Salmon', 10)]</td>\n",
       "      <td>480.0</td>\n",
       "      <td>-37.817461</td>\n",
       "      <td>144.967420</td>\n",
       "      <td>0</td>\n",
       "      <td>7.455</td>\n",
       "      <td>25.577977</td>\n",
       "    </tr>\n",
       "    <tr>\n",
       "      <th>378</th>\n",
       "      <td>ORDX09132</td>\n",
       "      <td>2018-06-17</td>\n",
       "      <td>13:24:30</td>\n",
       "      <td>Lunch</td>\n",
       "      <td>BK</td>\n",
       "      <td>[('Fries', 8), ('Chicken', 1)]</td>\n",
       "      <td>128.0</td>\n",
       "      <td>-37.802166</td>\n",
       "      <td>144.964518</td>\n",
       "      <td>0</td>\n",
       "      <td>7.721</td>\n",
       "      <td>25.023267</td>\n",
       "    </tr>\n",
       "  </tbody>\n",
       "</table>\n",
       "</div>"
      ],
      "text/plain": [
       "      order_id        date      time order_type branch_code  \\\n",
       "57   ORDB07956  2018-01-08  08:10:08  Breakfast          TP   \n",
       "204  ORDK06351  2018-12-30  20:00:00     Dinner          BK   \n",
       "353  ORDX01507  2018-10-06  17:07:36     Dinner          BK   \n",
       "378  ORDX09132  2018-06-17  13:24:30      Lunch          BK   \n",
       "\n",
       "                                           order_items  order_price  \\\n",
       "57         [('Coffee', 2), ('Cereal', 4), ('Eggs', 3)]        165.0   \n",
       "204  [('Salmon', 2), ('Pasta', 3), ('Shrimp', 3), (...        431.5   \n",
       "353                [('Fish&Chips', 2), ('Salmon', 10)]        480.0   \n",
       "378                     [('Fries', 8), ('Chicken', 1)]        128.0   \n",
       "\n",
       "     customer_lat  customer_lon  customerHasloyalty?  distance_to_customer_KM  \\\n",
       "57     -37.816161    144.939029                    1                   10.284   \n",
       "204    -37.815485    144.937798                    0                    9.984   \n",
       "353    -37.817461    144.967420                    0                    7.455   \n",
       "378    -37.802166    144.964518                    0                    7.721   \n",
       "\n",
       "     delivery_fee  \n",
       "57       3.568045  \n",
       "204     29.945278  \n",
       "353     25.577977  \n",
       "378     25.023267  "
      ]
     },
     "execution_count": 106,
     "metadata": {},
     "output_type": "execute_result"
    }
   ],
   "source": [
    "outlier_csv[outlier_csv.apply(MAD_outliers,axis = 1)]"
   ]
  },
  {
   "cell_type": "markdown",
   "metadata": {},
   "source": [
    "Remove the outlier from csv and use the function of describe to check data"
   ]
  },
  {
   "cell_type": "code",
   "execution_count": 107,
   "metadata": {},
   "outputs": [],
   "source": [
    "##remove the outlier from csv\n",
    "outlier_csv.drop(outlier_csv[outlier_csv.apply(MAD_outliers,axis = 1)].index.values,inplace = True)"
   ]
  },
  {
   "cell_type": "code",
   "execution_count": 108,
   "metadata": {},
   "outputs": [
    {
     "data": {
      "text/plain": [
       "count    496.000000\n",
       "mean      13.871278\n",
       "std        3.319897\n",
       "min        3.858131\n",
       "25%       12.318951\n",
       "50%       14.024532\n",
       "75%       15.642541\n",
       "max       24.372530\n",
       "Name: delivery_fee, dtype: float64"
      ]
     },
     "execution_count": 108,
     "metadata": {},
     "output_type": "execute_result"
    }
   ],
   "source": [
    "outlier_csv['delivery_fee'].describe()"
   ]
  },
  {
   "cell_type": "markdown",
   "metadata": {},
   "source": [
    "Set the unified `delivery_fee` to original and use the function of boxplot to see the data"
   ]
  },
  {
   "cell_type": "code",
   "execution_count": 109,
   "metadata": {},
   "outputs": [
    {
     "data": {
      "image/png": "[encoded data removed]",
      "text/plain": [
       "<Figure size 432x288 with 1 Axes>"
      ]
     },
     "metadata": {
      "needs_background": "light"
     },
     "output_type": "display_data"
    }
   ],
   "source": [
    "bp = outlier_csv.boxplot(column='delivery_fee')"
   ]
  },
  {
   "cell_type": "markdown",
   "metadata": {},
   "source": [
    "## Save into csv file"
   ]
  },
  {
   "cell_type": "code",
   "execution_count": 110,
   "metadata": {},
   "outputs": [],
   "source": [
    "outlier_csv.to_csv('Group023_outlier_data_solution.csv')"
   ]
  },
  {
   "cell_type": "markdown",
   "metadata": {},
   "source": [
    "## Summary"
   ]
  },
  {
   "cell_type": "markdown",
   "metadata": {},
   "source": [
    "This assessment measured the understanding of basic csv file processing techniques in the Python programming language and use exploratory data analysis (EDA) method to check data and use the different ways to solve or fill the data into the files.\n",
    "\n",
    "- **dirty_data.csv** First of all, use the EDA method to check whether have errors in each columns. In `1.2 date`, use the function of `pd.to_datetime` to fix the date as same format. In `1.3 time`, use the boolean function to check the data wether is same format (hour, minute and second). In `1.4 Order type`, fix error in column, because some types occurs on wrong  time range. In `1.5 Branch code`, change all of branch into uppercase. And based on the `outlier.csv`, we found some errors that some of branch_code do not fit order_id. In `1.6 Order item`, find the correct menu for each items, using `re (regular expression)` to extract data and caculate the menu price. Notably, we only get the colunm which has 4 order_items, it makes easier to caculate the price of each item. In the `replace the wrong menu` part, utilize division method to know whic item is correct. In `1.7 Order_price`, find and fix the error in order price. In `1.8 Customer lat & lon`, use the data visualization to check errors and set conditions to fix it. In `1.9 customerHasloyalty?`, check wether it has orther value except 0 and 1. In `1.10 distance_to_customer_KM`, firstly, merge the data. Secondly, create tje bilateral edges. Finally, caculate the shortest distance. In `1.11 delivery fee`, use the data visualization to see between each branch and deliver fee.\n",
    "\n",
    "\n",
    "\n",
    "- **missing_data.csv** In this part, we are going to fill `branch_code` by using the informations(relationship between order_id and branch_code). And merge `missing_data.csv`, `nodes.csv` and `branch.csv` to get the branch_node and customer_node. And set these two values as input to get the missing `distance_to_customer_KM`. Finally, using `Linear Regression` to calculate the `delivery_fee`\n",
    "\n",
    "\n",
    "\n",
    "- **outlier_data.csv** In this part, use the different methods to check outliers and use data visualization to check data. Firstly, use the `ESD method` to check outliers `( if |x-mean(x)| > 3*sd(x), x is outlier )`. Secondly, use `MAD( median absolute deviation)` method to check outliers `( x is an outlier if |x-median(x)| > 3*sd(x) )`. Finally, remove the outlier from the file."
   ]
  },
  {
   "cell_type": "markdown",
   "metadata": {},
   "source": [
    "## Reference"
   ]
  },
  {
   "cell_type": "markdown",
   "metadata": {},
   "source": [
    "- The `pandas` Project. (2016a). *pandas 0.19.2 documentation: pandas.DataFrame.to_csv*. Retrieved from http://pandas.pydata.org/pandas-docs/stable/generated/pandas.DataFrame.to_csv.html#pandas.DataFrame.to_csv\n",
    "- wikipedia — exploratory data analysis (EDA)*. Retrieved from https://en.wikipedia.org/wiki/Exploratory_data_analysis\n",
    "- Linear Regression in Python – Real Python*. Retrieved from https://realpython.com/linear-regression-in-python/\n",
    "- Python Arrays - W3Schools*. Retrieved from https://www.w3schools.com/python/python_arrays.asp\n",
    "- Python Program to Solve Quadratic Equation*. Retrieved from https://www.programiz.com/python-programming/examples/quadratic-roots"
   ]
  }
 ],
 "metadata": {
  "kernelspec": {
   "display_name": "Python 3",
   "language": "python",
   "name": "python3"
  },
  "language_info": {
   "codemirror_mode": {
    "name": "ipython",
    "version": 3
   },
   "file_extension": ".py",
   "mimetype": "text/x-python",
   "name": "python",
   "nbconvert_exporter": "python",
   "pygments_lexer": "ipython3",
   "version": "3.7.1"
  }
 },
 "nbformat": 4,
 "nbformat_minor": 4
}
